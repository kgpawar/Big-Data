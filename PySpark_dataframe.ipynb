{
  "nbformat": 4,
  "nbformat_minor": 0,
  "metadata": {
    "colab": {
      "provenance": [],
      "authorship_tag": "ABX9TyPq07sWYORZo6x3iA8adul9",
      "include_colab_link": true
    },
    "kernelspec": {
      "name": "python3",
      "display_name": "Python 3"
    },
    "language_info": {
      "name": "python"
    }
  },
  "cells": [
    {
      "cell_type": "markdown",
      "metadata": {
        "id": "view-in-github",
        "colab_type": "text"
      },
      "source": [
        "<a href=\"https://colab.research.google.com/github/kgpawar/Big-Data/blob/main/PySpark_dataframe.ipynb\" target=\"_parent\"><img src=\"https://colab.research.google.com/assets/colab-badge.svg\" alt=\"Open In Colab\"/></a>"
      ]
    },
    {
      "cell_type": "code",
      "execution_count": 1,
      "metadata": {
        "colab": {
          "base_uri": "https://localhost:8080/"
        },
        "id": "WhJv56pSZ50W",
        "outputId": "02e609eb-3653-452a-a06d-ae4c18a56867"
      },
      "outputs": [
        {
          "output_type": "stream",
          "name": "stdout",
          "text": [
            "Looking in indexes: https://pypi.org/simple, https://us-python.pkg.dev/colab-wheels/public/simple/\n",
            "Collecting pyspark\n",
            "  Downloading pyspark-3.3.1.tar.gz (281.4 MB)\n",
            "\u001b[2K     \u001b[90m━━━━━━━━━━━━━━━━━━━━━━━━━━━━━━━━━━━━━━━\u001b[0m \u001b[32m281.4/281.4 MB\u001b[0m \u001b[31m4.3 MB/s\u001b[0m eta \u001b[36m0:00:00\u001b[0m\n",
            "\u001b[?25h  Preparing metadata (setup.py) ... \u001b[?25l\u001b[?25hdone\n",
            "Collecting py4j==0.10.9.5\n",
            "  Downloading py4j-0.10.9.5-py2.py3-none-any.whl (199 kB)\n",
            "\u001b[2K     \u001b[90m━━━━━━━━━━━━━━━━━━━━━━━━━━━━━━━━━━━━━━\u001b[0m \u001b[32m199.7/199.7 KB\u001b[0m \u001b[31m23.5 MB/s\u001b[0m eta \u001b[36m0:00:00\u001b[0m\n",
            "\u001b[?25hBuilding wheels for collected packages: pyspark\n",
            "  Building wheel for pyspark (setup.py) ... \u001b[?25l\u001b[?25hdone\n",
            "  Created wheel for pyspark: filename=pyspark-3.3.1-py2.py3-none-any.whl size=281845512 sha256=943b74346485d17dee5fe6434a9c047829d780c7efb638e73c726fc4826465ec\n",
            "  Stored in directory: /root/.cache/pip/wheels/43/dc/11/ec201cd671da62fa9c5cc77078235e40722170ceba231d7598\n",
            "Successfully built pyspark\n",
            "Installing collected packages: py4j, pyspark\n",
            "Successfully installed py4j-0.10.9.5 pyspark-3.3.1\n"
          ]
        }
      ],
      "source": [
        "pip install pyspark"
      ]
    },
    {
      "cell_type": "code",
      "source": [
        "from pyspark.sql import SparkSession"
      ],
      "metadata": {
        "id": "Mj9ZojqBaOIE"
      },
      "execution_count": 2,
      "outputs": []
    },
    {
      "cell_type": "code",
      "source": [
        "spark = SparkSession.builder.master(\"local[4]\").appName('Krishna Pawar').getOrCreate()"
      ],
      "metadata": {
        "id": "_pKm3m6oaUr-"
      },
      "execution_count": 3,
      "outputs": []
    },
    {
      "cell_type": "code",
      "source": [
        "# Spark Context Object\n",
        "sc = spark.sparkContext"
      ],
      "metadata": {
        "id": "AJ5lkQEga1P2"
      },
      "execution_count": 4,
      "outputs": []
    },
    {
      "cell_type": "code",
      "source": [
        "df = spark.read.csv('student.csv')"
      ],
      "metadata": {
        "id": "LGQFdvuOb9Na"
      },
      "execution_count": 5,
      "outputs": []
    },
    {
      "cell_type": "code",
      "source": [
        "import os\n",
        "os.getcwd()"
      ],
      "metadata": {
        "colab": {
          "base_uri": "https://localhost:8080/",
          "height": 35
        },
        "id": "fMjY_isycHMA",
        "outputId": "35d1a6c0-4ac6-4fa9-924c-b56bdc45df40"
      },
      "execution_count": 6,
      "outputs": [
        {
          "output_type": "execute_result",
          "data": {
            "text/plain": [
              "'/content'"
            ],
            "application/vnd.google.colaboratory.intrinsic+json": {
              "type": "string"
            }
          },
          "metadata": {},
          "execution_count": 6
        }
      ]
    },
    {
      "cell_type": "code",
      "source": [
        "df"
      ],
      "metadata": {
        "colab": {
          "base_uri": "https://localhost:8080/"
        },
        "id": "h3kMHnbNcM6a",
        "outputId": "e0fbb742-c13c-484d-889d-376659595a8d"
      },
      "execution_count": 7,
      "outputs": [
        {
          "output_type": "execute_result",
          "data": {
            "text/plain": [
              "DataFrame[_c0: string, _c1: string, _c2: string, _c3: string, _c4: string]"
            ]
          },
          "metadata": {},
          "execution_count": 7
        }
      ]
    },
    {
      "cell_type": "code",
      "source": [
        "df.printSchema()"
      ],
      "metadata": {
        "colab": {
          "base_uri": "https://localhost:8080/"
        },
        "id": "wngamo_6cRQL",
        "outputId": "99d38717-3e01-4cf6-f5c7-564c009012d2"
      },
      "execution_count": 8,
      "outputs": [
        {
          "output_type": "stream",
          "name": "stdout",
          "text": [
            "root\n",
            " |-- _c0: string (nullable = true)\n",
            " |-- _c1: string (nullable = true)\n",
            " |-- _c2: string (nullable = true)\n",
            " |-- _c3: string (nullable = true)\n",
            " |-- _c4: string (nullable = true)\n",
            "\n"
          ]
        }
      ]
    },
    {
      "cell_type": "code",
      "source": [
        "df.head(1)"
      ],
      "metadata": {
        "colab": {
          "base_uri": "https://localhost:8080/"
        },
        "id": "IsCFLRtwciTU",
        "outputId": "628f718a-796c-4a64-c4de-c0526af0f02d"
      },
      "execution_count": 10,
      "outputs": [
        {
          "output_type": "execute_result",
          "data": {
            "text/plain": [
              "[Row(_c0='roll', _c1='name', _c2='class', _c3='marks', _c4='age')]"
            ]
          },
          "metadata": {},
          "execution_count": 10
        }
      ]
    },
    {
      "cell_type": "code",
      "source": [
        "#Here we fix first row as header\n",
        "df1 = spark.read.option('header',True).csv('student.csv')"
      ],
      "metadata": {
        "id": "4_ph1uiEc80o"
      },
      "execution_count": 11,
      "outputs": []
    },
    {
      "cell_type": "code",
      "source": [
        "df1"
      ],
      "metadata": {
        "colab": {
          "base_uri": "https://localhost:8080/"
        },
        "id": "lvwHir6CdbUE",
        "outputId": "c90097f5-2b38-4902-b939-c099e9c890d6"
      },
      "execution_count": 12,
      "outputs": [
        {
          "output_type": "execute_result",
          "data": {
            "text/plain": [
              "DataFrame[roll: string, name: string, class: string, marks: string, age: string]"
            ]
          },
          "metadata": {},
          "execution_count": 12
        }
      ]
    },
    {
      "cell_type": "code",
      "source": [
        "df1.printSchema()"
      ],
      "metadata": {
        "colab": {
          "base_uri": "https://localhost:8080/"
        },
        "id": "109-39Y-dinp",
        "outputId": "b5e37933-d4ea-4ce7-ea74-9f3a53985dbb"
      },
      "execution_count": 15,
      "outputs": [
        {
          "output_type": "stream",
          "name": "stdout",
          "text": [
            "root\n",
            " |-- roll: string (nullable = true)\n",
            " |-- name: string (nullable = true)\n",
            " |-- class: string (nullable = true)\n",
            " |-- marks: string (nullable = true)\n",
            " |-- age: string (nullable = true)\n",
            "\n"
          ]
        }
      ]
    },
    {
      "cell_type": "code",
      "source": [
        "df1.head(1)"
      ],
      "metadata": {
        "colab": {
          "base_uri": "https://localhost:8080/"
        },
        "id": "DuT7elXGdm0I",
        "outputId": "8785d651-37ef-49e3-b46e-efa534b8c162"
      },
      "execution_count": 16,
      "outputs": [
        {
          "output_type": "execute_result",
          "data": {
            "text/plain": [
              "[Row(roll='1', name='anil', class='TE', marks='56.77', age='22')]"
            ]
          },
          "metadata": {},
          "execution_count": 16
        }
      ]
    },
    {
      "cell_type": "code",
      "source": [
        "df2 = spark.read.csv('student3.tsv')"
      ],
      "metadata": {
        "id": "o7FwbCR6eAVQ"
      },
      "execution_count": 17,
      "outputs": []
    },
    {
      "cell_type": "code",
      "source": [
        "df2.head(5)"
      ],
      "metadata": {
        "colab": {
          "base_uri": "https://localhost:8080/"
        },
        "id": "mpk3Dxl5epac",
        "outputId": "b6cfa3ee-1313-4a2d-f74a-5b2c7d46c462"
      },
      "execution_count": 18,
      "outputs": [
        {
          "output_type": "execute_result",
          "data": {
            "text/plain": [
              "[Row(_c0='roll\\tname\\tclass\\tmarks\\tage'),\n",
              " Row(_c0='1\\tanil\\tTE\\t56.77\\t22'),\n",
              " Row(_c0='2\\tamit\\tTE\\t59.77\\t21'),\n",
              " Row(_c0='3\\taniket\\tBE\\t76.88\\t19'),\n",
              " Row(_c0='4\\tajinkya\\tTE\\t69.66\\t20')]"
            ]
          },
          "metadata": {},
          "execution_count": 18
        }
      ]
    },
    {
      "cell_type": "code",
      "source": [
        "df3 = spark.read.option('delimiter','\\t').option('header',True).csv('student3.tsv')\n",
        "#OR\n",
        "#df3 = spark.read.option(delimiter='\\t').option('header',True).csv('student3.tsv')"
      ],
      "metadata": {
        "id": "yEg2iFxgezyy"
      },
      "execution_count": 19,
      "outputs": []
    },
    {
      "cell_type": "code",
      "source": [
        "df3.head(5)"
      ],
      "metadata": {
        "colab": {
          "base_uri": "https://localhost:8080/"
        },
        "id": "fgcniQYufNL5",
        "outputId": "b4af40b3-748f-4737-e80d-e7807e31480d"
      },
      "execution_count": 20,
      "outputs": [
        {
          "output_type": "execute_result",
          "data": {
            "text/plain": [
              "[Row(roll='1', name='anil', class='TE', marks='56.77', age='22'),\n",
              " Row(roll='2', name='amit', class='TE', marks='59.77', age='21'),\n",
              " Row(roll='3', name='aniket', class='BE', marks='76.88', age='19'),\n",
              " Row(roll='4', name='ajinkya', class='TE', marks='69.66', age='20'),\n",
              " Row(roll='5', name='asha', class='TE', marks='63.28', age='20')]"
            ]
          },
          "metadata": {},
          "execution_count": 20
        }
      ]
    },
    {
      "cell_type": "code",
      "source": [
        "df3.tail(3)"
      ],
      "metadata": {
        "colab": {
          "base_uri": "https://localhost:8080/"
        },
        "id": "e3tsDWogfVnO",
        "outputId": "352e59cf-6dd4-45e4-94b7-95a4da8e49e4"
      },
      "execution_count": 21,
      "outputs": [
        {
          "output_type": "execute_result",
          "data": {
            "text/plain": [
              "[Row(roll='8', name='amita', class='BE', marks='68.33', age='23'),\n",
              " Row(roll='9', name='amol', class='TE', marks='56.75', age='20'),\n",
              " Row(roll='10', name='anmol', class='BE', marks='78.66', age='21')]"
            ]
          },
          "metadata": {},
          "execution_count": 21
        }
      ]
    },
    {
      "cell_type": "code",
      "source": [
        "#to identify data type of elements in column\n",
        "df4=spark.read.options(header=True,inferSchema=True).csv('student.csv')"
      ],
      "metadata": {
        "id": "QdsRn41SfYIz"
      },
      "execution_count": 24,
      "outputs": []
    },
    {
      "cell_type": "code",
      "source": [
        "df4.printSchema()"
      ],
      "metadata": {
        "colab": {
          "base_uri": "https://localhost:8080/"
        },
        "id": "MjZM-L-Smv5k",
        "outputId": "35390170-224d-4aa6-8fc5-9f9bdb66b570"
      },
      "execution_count": 26,
      "outputs": [
        {
          "output_type": "stream",
          "name": "stdout",
          "text": [
            "root\n",
            " |-- roll: integer (nullable = true)\n",
            " |-- name: string (nullable = true)\n",
            " |-- class: string (nullable = true)\n",
            " |-- marks: double (nullable = true)\n",
            " |-- age: integer (nullable = true)\n",
            "\n"
          ]
        }
      ]
    },
    {
      "cell_type": "code",
      "source": [
        "from pyspark.sql.types import *"
      ],
      "metadata": {
        "id": "9rWVA334ntwM"
      },
      "execution_count": 27,
      "outputs": []
    },
    {
      "cell_type": "code",
      "source": [
        "#here we create schema with data type & enforcing to file\n",
        "schema = StructType()\\\n",
        "          .add(\"roll\",IntegerType(),True)\\\n",
        "          .add(\"name\",StringType(),True)\\\n",
        "          .add(\"class\",StringType(),True)\\\n",
        "          .add(\"marks\",DoubleType(),True)\\\n",
        "          .add(\"age\",IntegerType(),True)"
      ],
      "metadata": {
        "id": "fy6KqR4OnuLh"
      },
      "execution_count": 28,
      "outputs": []
    },
    {
      "cell_type": "code",
      "source": [
        "df_s = spark.read.format(\"csv\")\\\n",
        "        .option(\"header\",True)\\\n",
        "        .schema(schema)\\\n",
        "        .load(\"student.csv\")"
      ],
      "metadata": {
        "id": "b8RcXocto61J"
      },
      "execution_count": 30,
      "outputs": []
    },
    {
      "cell_type": "code",
      "source": [
        "df_s.head(4)"
      ],
      "metadata": {
        "colab": {
          "base_uri": "https://localhost:8080/"
        },
        "id": "q3oyPz8mpR6U",
        "outputId": "f308370e-430a-4999-8065-3aac70c381f0"
      },
      "execution_count": 31,
      "outputs": [
        {
          "output_type": "execute_result",
          "data": {
            "text/plain": [
              "[Row(roll=1, name='anil', class='TE', marks=56.77, age=22),\n",
              " Row(roll=2, name='amit', class='TE', marks=59.77, age=21),\n",
              " Row(roll=3, name='aniket', class='BE', marks=76.88, age=19),\n",
              " Row(roll=4, name='ajinkya', class='TE', marks=69.66, age=20)]"
            ]
          },
          "metadata": {},
          "execution_count": 31
        }
      ]
    },
    {
      "cell_type": "code",
      "source": [
        "#we can save above file in new file\n",
        "df_s.write.options(header=True).csv('neawfile')"
      ],
      "metadata": {
        "id": "psYim0WNq7sO"
      },
      "execution_count": 32,
      "outputs": []
    },
    {
      "cell_type": "code",
      "source": [
        "# we can read JSON file also\n",
        "df_j = spark.read.json('students.json')"
      ],
      "metadata": {
        "id": "A5I-03Mjr3wt"
      },
      "execution_count": 33,
      "outputs": []
    },
    {
      "cell_type": "code",
      "source": [
        "df_j.head(5)"
      ],
      "metadata": {
        "colab": {
          "base_uri": "https://localhost:8080/"
        },
        "id": "2vZ4ggbMscPr",
        "outputId": "c6ca6fdb-3b55-4d7c-cee4-7e499a55b028"
      },
      "execution_count": 34,
      "outputs": [
        {
          "output_type": "execute_result",
          "data": {
            "text/plain": [
              "[Row(_id=0, name='aimee Zank', scores=[Row(score=1.463179736705023, type='exam'), Row(score=11.78273309957772, type='quiz'), Row(score=35.8740349954354, type='homework')]),\n",
              " Row(_id=1, name='Aurelia Menendez', scores=[Row(score=60.06045071030959, type='exam'), Row(score=52.79790691903873, type='quiz'), Row(score=71.76133439165544, type='homework')]),\n",
              " Row(_id=2, name='Corliss Zuk', scores=[Row(score=67.03077096065002, type='exam'), Row(score=6.301851677835235, type='quiz'), Row(score=66.28344683278382, type='homework')]),\n",
              " Row(_id=3, name='Bao Ziglar', scores=[Row(score=71.64343899778332, type='exam'), Row(score=24.80221293650313, type='quiz'), Row(score=42.26147058804812, type='homework')]),\n",
              " Row(_id=4, name='Zachary Langlais', scores=[Row(score=78.68385091304332, type='exam'), Row(score=90.2963101368042, type='quiz'), Row(score=34.41620148042529, type='homework')])]"
            ]
          },
          "metadata": {},
          "execution_count": 34
        }
      ]
    },
    {
      "cell_type": "code",
      "source": [
        "type(df_j)"
      ],
      "metadata": {
        "colab": {
          "base_uri": "https://localhost:8080/"
        },
        "id": "_LBLPCdvsl6d",
        "outputId": "7cdc2b90-341d-4ab7-9e6f-f9fb11bf51d2"
      },
      "execution_count": 35,
      "outputs": [
        {
          "output_type": "execute_result",
          "data": {
            "text/plain": [
              "pyspark.sql.dataframe.DataFrame"
            ]
          },
          "metadata": {},
          "execution_count": 35
        }
      ]
    },
    {
      "cell_type": "code",
      "source": [
        "df.show()"
      ],
      "metadata": {
        "colab": {
          "base_uri": "https://localhost:8080/"
        },
        "id": "XZDLlh_Ds4uT",
        "outputId": "e89b0e8a-dedc-4ddd-d4b9-7fbf4217b3aa"
      },
      "execution_count": 36,
      "outputs": [
        {
          "output_type": "stream",
          "name": "stdout",
          "text": [
            "+----+-------+-----+-----+---+\n",
            "| _c0|    _c1|  _c2|  _c3|_c4|\n",
            "+----+-------+-----+-----+---+\n",
            "|roll|   name|class|marks|age|\n",
            "|   1|   anil|   TE|56.77| 22|\n",
            "|   2|   amit|   TE|59.77| 21|\n",
            "|   3| aniket|   BE|76.88| 19|\n",
            "|   4|ajinkya|   TE|69.66| 20|\n",
            "|   5|   asha|   TE|63.28| 20|\n",
            "|   6| ayesha|   BE|49.55| 20|\n",
            "|   7|   amar|   BE|65.34| 19|\n",
            "|   8|  amita|   BE|68.33| 23|\n",
            "|   9|   amol|   TE|56.75| 20|\n",
            "|  10|  anmol|   BE|78.66| 21|\n",
            "+----+-------+-----+-----+---+\n",
            "\n"
          ]
        }
      ]
    },
    {
      "cell_type": "code",
      "source": [
        "df_j.show()"
      ],
      "metadata": {
        "colab": {
          "base_uri": "https://localhost:8080/"
        },
        "id": "B-Rf09txtJ-H",
        "outputId": "9150c3fb-69fb-4eb7-b250-912509e12021"
      },
      "execution_count": 37,
      "outputs": [
        {
          "output_type": "stream",
          "name": "stdout",
          "text": [
            "+---+------------------+--------------------+\n",
            "|_id|              name|              scores|\n",
            "+---+------------------+--------------------+\n",
            "|  0|        aimee Zank|[{1.4631797367050...|\n",
            "|  1|  Aurelia Menendez|[{60.060450710309...|\n",
            "|  2|       Corliss Zuk|[{67.030770960650...|\n",
            "|  3|        Bao Ziglar|[{71.643438997783...|\n",
            "|  4|  Zachary Langlais|[{78.683850913043...|\n",
            "|  5|    Wilburn Spiess|[{44.871863301812...|\n",
            "|  6|  Jenette Flanders|[{37.322854591660...|\n",
            "|  7|      Salena Olmos|[{90.378265091571...|\n",
            "|  8|      Daphne Zheng|[{22.135837128626...|\n",
            "|  9|        Sanda Ryba|[{97.005099536546...|\n",
            "| 10|      Denisha Cast|[{45.618768622594...|\n",
            "| 11|      Marcus Blohm|[{78.426178356518...|\n",
            "| 12|    Quincy Danaher|[{54.298412785206...|\n",
            "| 13|  Jessika Dagenais|[{90.471799544274...|\n",
            "| 14|     Alix Sherrill|[{25.159241519982...|\n",
            "| 15|    Tambra Mercure|[{69.156502253315...|\n",
            "| 16|     Dodie Staller|[{7.7723864428582...|\n",
            "| 17|Fletcher Mcconnell|[{39.410110697292...|\n",
            "| 18|  Verdell Sowinski|[{62.128702331090...|\n",
            "| 19|      Gisela Levin|[{44.512111019588...|\n",
            "+---+------------------+--------------------+\n",
            "only showing top 20 rows\n",
            "\n"
          ]
        }
      ]
    },
    {
      "cell_type": "code",
      "source": [
        "df1.select('name').show()"
      ],
      "metadata": {
        "colab": {
          "base_uri": "https://localhost:8080/"
        },
        "id": "JP38LKj1tdiC",
        "outputId": "e2d3d389-415d-4539-d72d-943a6091b7c2"
      },
      "execution_count": 39,
      "outputs": [
        {
          "output_type": "stream",
          "name": "stdout",
          "text": [
            "+-------+\n",
            "|   name|\n",
            "+-------+\n",
            "|   anil|\n",
            "|   amit|\n",
            "| aniket|\n",
            "|ajinkya|\n",
            "|   asha|\n",
            "| ayesha|\n",
            "|   amar|\n",
            "|  amita|\n",
            "|   amol|\n",
            "|  anmol|\n",
            "+-------+\n",
            "\n"
          ]
        }
      ]
    },
    {
      "cell_type": "code",
      "source": [
        "df1.select(['name','marks']).show()"
      ],
      "metadata": {
        "colab": {
          "base_uri": "https://localhost:8080/"
        },
        "id": "PZ4t9-d7t3H-",
        "outputId": "faf1b2f8-4082-42e2-b08d-1720f06cca29"
      },
      "execution_count": 41,
      "outputs": [
        {
          "output_type": "stream",
          "name": "stdout",
          "text": [
            "+-------+-----+\n",
            "|   name|marks|\n",
            "+-------+-----+\n",
            "|   anil|56.77|\n",
            "|   amit|59.77|\n",
            "| aniket|76.88|\n",
            "|ajinkya|69.66|\n",
            "|   asha|63.28|\n",
            "| ayesha|49.55|\n",
            "|   amar|65.34|\n",
            "|  amita|68.33|\n",
            "|   amol|56.75|\n",
            "|  anmol|78.66|\n",
            "+-------+-----+\n",
            "\n"
          ]
        }
      ]
    },
    {
      "cell_type": "code",
      "source": [
        "df1.filter(df1['marks']>60).show()"
      ],
      "metadata": {
        "colab": {
          "base_uri": "https://localhost:8080/"
        },
        "id": "46hfgeiGuHOJ",
        "outputId": "40936a01-835e-4292-9497-62639af28bde"
      },
      "execution_count": 43,
      "outputs": [
        {
          "output_type": "stream",
          "name": "stdout",
          "text": [
            "+----+-------+-----+-----+---+\n",
            "|roll|   name|class|marks|age|\n",
            "+----+-------+-----+-----+---+\n",
            "|   3| aniket|   BE|76.88| 19|\n",
            "|   4|ajinkya|   TE|69.66| 20|\n",
            "|   5|   asha|   TE|63.28| 20|\n",
            "|   7|   amar|   BE|65.34| 19|\n",
            "|   8|  amita|   BE|68.33| 23|\n",
            "|  10|  anmol|   BE|78.66| 21|\n",
            "+----+-------+-----+-----+---+\n",
            "\n"
          ]
        }
      ]
    },
    {
      "cell_type": "code",
      "source": [
        "df1.filter((df1['class']==\"BE\") & (df1['marks']>60)).show()"
      ],
      "metadata": {
        "colab": {
          "base_uri": "https://localhost:8080/"
        },
        "id": "6wiSuWQZuYfJ",
        "outputId": "91b6c631-6d0b-41b3-a82e-ca2e72a5e867"
      },
      "execution_count": 50,
      "outputs": [
        {
          "output_type": "stream",
          "name": "stdout",
          "text": [
            "+----+------+-----+-----+---+\n",
            "|roll|  name|class|marks|age|\n",
            "+----+------+-----+-----+---+\n",
            "|   3|aniket|   BE|76.88| 19|\n",
            "|   7|  amar|   BE|65.34| 19|\n",
            "|   8| amita|   BE|68.33| 23|\n",
            "|  10| anmol|   BE|78.66| 21|\n",
            "+----+------+-----+-----+---+\n",
            "\n"
          ]
        }
      ]
    },
    {
      "cell_type": "code",
      "source": [
        "df1.groupBy('class').count().show()"
      ],
      "metadata": {
        "colab": {
          "base_uri": "https://localhost:8080/"
        },
        "id": "w-HvU6oewKGw",
        "outputId": "a4aabf0f-f42d-4fe3-8ffa-6f59b10ad782"
      },
      "execution_count": 51,
      "outputs": [
        {
          "output_type": "stream",
          "name": "stdout",
          "text": [
            "+-----+-----+\n",
            "|class|count|\n",
            "+-----+-----+\n",
            "|   TE|    5|\n",
            "|   BE|    5|\n",
            "+-----+-----+\n",
            "\n"
          ]
        }
      ]
    },
    {
      "cell_type": "code",
      "source": [
        "df1.groupBy('class').max().show()"
      ],
      "metadata": {
        "colab": {
          "base_uri": "https://localhost:8080/"
        },
        "id": "6GWLC4GHwWCJ",
        "outputId": "4c7a5b50-47ed-4b3e-e098-99723495a007"
      },
      "execution_count": 52,
      "outputs": [
        {
          "output_type": "stream",
          "name": "stdout",
          "text": [
            "+-----+\n",
            "|class|\n",
            "+-----+\n",
            "|   TE|\n",
            "|   BE|\n",
            "+-----+\n",
            "\n"
          ]
        }
      ]
    },
    {
      "cell_type": "code",
      "source": [
        "df4.select(['class','marks']).groupBy('class').max().show()"
      ],
      "metadata": {
        "colab": {
          "base_uri": "https://localhost:8080/"
        },
        "id": "COJowPdYwj91",
        "outputId": "c7824c27-6b72-4044-e952-9914ecd2696b"
      },
      "execution_count": 54,
      "outputs": [
        {
          "output_type": "stream",
          "name": "stdout",
          "text": [
            "+-----+----------+\n",
            "|class|max(marks)|\n",
            "+-----+----------+\n",
            "|   TE|     69.66|\n",
            "|   BE|     78.66|\n",
            "+-----+----------+\n",
            "\n"
          ]
        }
      ]
    },
    {
      "cell_type": "code",
      "source": [
        "x = df4.toDF('roll','name','class','marks','age')"
      ],
      "metadata": {
        "id": "Fd46vojXx_10"
      },
      "execution_count": 55,
      "outputs": []
    },
    {
      "cell_type": "code",
      "source": [
        "x.show(5)"
      ],
      "metadata": {
        "colab": {
          "base_uri": "https://localhost:8080/"
        },
        "id": "uPAyKET1yNVx",
        "outputId": "0b7369d8-eacc-4017-9228-555c1d8f28d6"
      },
      "execution_count": 56,
      "outputs": [
        {
          "output_type": "stream",
          "name": "stdout",
          "text": [
            "+----+-------+-----+-----+---+\n",
            "|roll|   name|class|marks|age|\n",
            "+----+-------+-----+-----+---+\n",
            "|   1|   anil|   TE|56.77| 22|\n",
            "|   2|   amit|   TE|59.77| 21|\n",
            "|   3| aniket|   BE|76.88| 19|\n",
            "|   4|ajinkya|   TE|69.66| 20|\n",
            "|   5|   asha|   TE|63.28| 20|\n",
            "+----+-------+-----+-----+---+\n",
            "only showing top 5 rows\n",
            "\n"
          ]
        }
      ]
    },
    {
      "cell_type": "code",
      "source": [
        "#shallow Copy\n",
        "a=[1,2,3]\n",
        "b=a"
      ],
      "metadata": {
        "id": "Byu-j-sOzCEi"
      },
      "execution_count": 57,
      "outputs": []
    },
    {
      "cell_type": "code",
      "source": [
        "b.append(4)\n",
        "a"
      ],
      "metadata": {
        "colab": {
          "base_uri": "https://localhost:8080/"
        },
        "id": "OWG5tpjnzTtj",
        "outputId": "ba52852c-94f3-4851-eb89-aa1fdb4c729d"
      },
      "execution_count": 58,
      "outputs": [
        {
          "output_type": "execute_result",
          "data": {
            "text/plain": [
              "[1, 2, 3, 4]"
            ]
          },
          "metadata": {},
          "execution_count": 58
        }
      ]
    },
    {
      "cell_type": "code",
      "source": [
        "id(a),id(b)"
      ],
      "metadata": {
        "colab": {
          "base_uri": "https://localhost:8080/"
        },
        "id": "6SORBL2FzbIn",
        "outputId": "a8a9ea9d-d3d2-44da-eaee-d64424c1b0e4"
      },
      "execution_count": 59,
      "outputs": [
        {
          "output_type": "execute_result",
          "data": {
            "text/plain": [
              "(139998447809280, 139998447809280)"
            ]
          },
          "metadata": {},
          "execution_count": 59
        }
      ]
    },
    {
      "cell_type": "code",
      "source": [
        "# renaming the columns\n",
        "newdf = df4.toDF('1','2','3','4','5')\n",
        "newdf.show()"
      ],
      "metadata": {
        "colab": {
          "base_uri": "https://localhost:8080/"
        },
        "id": "rfy5Svh3z6uD",
        "outputId": "49dc3fd5-3644-4ee4-fbbf-a1b0c23d479a"
      },
      "execution_count": 61,
      "outputs": [
        {
          "output_type": "stream",
          "name": "stdout",
          "text": [
            "+---+-------+---+-----+---+\n",
            "|  1|      2|  3|    4|  5|\n",
            "+---+-------+---+-----+---+\n",
            "|  1|   anil| TE|56.77| 22|\n",
            "|  2|   amit| TE|59.77| 21|\n",
            "|  3| aniket| BE|76.88| 19|\n",
            "|  4|ajinkya| TE|69.66| 20|\n",
            "|  5|   asha| TE|63.28| 20|\n",
            "|  6| ayesha| BE|49.55| 20|\n",
            "|  7|   amar| BE|65.34| 19|\n",
            "|  8|  amita| BE|68.33| 23|\n",
            "|  9|   amol| TE|56.75| 20|\n",
            "| 10|  anmol| BE|78.66| 21|\n",
            "+---+-------+---+-----+---+\n",
            "\n"
          ]
        }
      ]
    },
    {
      "cell_type": "code",
      "source": [
        "# Count total number of rows\n",
        "df4.count()"
      ],
      "metadata": {
        "colab": {
          "base_uri": "https://localhost:8080/"
        },
        "id": "SXRUtOPl0aHG",
        "outputId": "de45cfba-377d-4765-a289-731f7f45d769"
      },
      "execution_count": 63,
      "outputs": [
        {
          "output_type": "execute_result",
          "data": {
            "text/plain": [
              "10"
            ]
          },
          "metadata": {},
          "execution_count": 63
        }
      ]
    },
    {
      "cell_type": "code",
      "source": [
        "# Print the names of columns\n",
        "df4.columns"
      ],
      "metadata": {
        "colab": {
          "base_uri": "https://localhost:8080/"
        },
        "id": "a-hmBoSe0nNI",
        "outputId": "eb137835-16ae-4250-8e89-26b6fe5f625e"
      },
      "execution_count": 66,
      "outputs": [
        {
          "output_type": "execute_result",
          "data": {
            "text/plain": [
              "['roll', 'name', 'class', 'marks', 'age']"
            ]
          },
          "metadata": {},
          "execution_count": 66
        }
      ]
    },
    {
      "cell_type": "code",
      "source": [
        "newdf.columns"
      ],
      "metadata": {
        "colab": {
          "base_uri": "https://localhost:8080/"
        },
        "id": "nlNzXwhK0xFP",
        "outputId": "034cf87b-5cf5-46a9-e78d-13d16e8b020e"
      },
      "execution_count": 65,
      "outputs": [
        {
          "output_type": "execute_result",
          "data": {
            "text/plain": [
              "['1', '2', '3', '4', '5']"
            ]
          },
          "metadata": {},
          "execution_count": 65
        }
      ]
    },
    {
      "cell_type": "code",
      "source": [
        "df4.take(6)"
      ],
      "metadata": {
        "colab": {
          "base_uri": "https://localhost:8080/"
        },
        "id": "OhNDFErr1BAP",
        "outputId": "d4d6fcad-2595-4e50-cb80-716a4ac1a568"
      },
      "execution_count": 70,
      "outputs": [
        {
          "output_type": "execute_result",
          "data": {
            "text/plain": [
              "[Row(roll=1, name='anil', class='TE', marks=56.77, age=22),\n",
              " Row(roll=2, name='amit', class='TE', marks=59.77, age=21),\n",
              " Row(roll=3, name='aniket', class='BE', marks=76.88, age=19),\n",
              " Row(roll=4, name='ajinkya', class='TE', marks=69.66, age=20),\n",
              " Row(roll=5, name='asha', class='TE', marks=63.28, age=20),\n",
              " Row(roll=6, name='ayesha', class='BE', marks=49.55, age=20)]"
            ]
          },
          "metadata": {},
          "execution_count": 70
        }
      ]
    },
    {
      "cell_type": "code",
      "source": [
        "# drop the unwanted column\n",
        "df4.drop('class').show(5)"
      ],
      "metadata": {
        "colab": {
          "base_uri": "https://localhost:8080/"
        },
        "id": "QjLMb7OM1cVZ",
        "outputId": "0b8a7d5c-ec68-4093-f4e0-2ccd690d7384"
      },
      "execution_count": 71,
      "outputs": [
        {
          "output_type": "stream",
          "name": "stdout",
          "text": [
            "+----+-------+-----+---+\n",
            "|roll|   name|marks|age|\n",
            "+----+-------+-----+---+\n",
            "|   1|   anil|56.77| 22|\n",
            "|   2|   amit|59.77| 21|\n",
            "|   3| aniket|76.88| 19|\n",
            "|   4|ajinkya|69.66| 20|\n",
            "|   5|   asha|63.28| 20|\n",
            "+----+-------+-----+---+\n",
            "only showing top 5 rows\n",
            "\n"
          ]
        }
      ]
    },
    {
      "cell_type": "code",
      "source": [
        "# To create Panda DataFrame from existing spark dataframe\n",
        "pdf = df4.toPandas()"
      ],
      "metadata": {
        "id": "fYZblapd2dOA"
      },
      "execution_count": 76,
      "outputs": []
    },
    {
      "cell_type": "code",
      "source": [
        "pdf"
      ],
      "metadata": {
        "colab": {
          "base_uri": "https://localhost:8080/",
          "height": 363
        },
        "id": "oEFitqCV2iuW",
        "outputId": "495de2d7-3628-4147-8922-89e9c92bc3ef"
      },
      "execution_count": 77,
      "outputs": [
        {
          "output_type": "execute_result",
          "data": {
            "text/plain": [
              "   roll     name class  marks  age\n",
              "0     1     anil    TE  56.77   22\n",
              "1     2     amit    TE  59.77   21\n",
              "2     3   aniket    BE  76.88   19\n",
              "3     4  ajinkya    TE  69.66   20\n",
              "4     5     asha    TE  63.28   20\n",
              "5     6   ayesha    BE  49.55   20\n",
              "6     7     amar    BE  65.34   19\n",
              "7     8    amita    BE  68.33   23\n",
              "8     9     amol    TE  56.75   20\n",
              "9    10    anmol    BE  78.66   21"
            ],
            "text/html": [
              "\n",
              "  <div id=\"df-30901dc7-0b16-4512-b95c-82a15986ca04\">\n",
              "    <div class=\"colab-df-container\">\n",
              "      <div>\n",
              "<style scoped>\n",
              "    .dataframe tbody tr th:only-of-type {\n",
              "        vertical-align: middle;\n",
              "    }\n",
              "\n",
              "    .dataframe tbody tr th {\n",
              "        vertical-align: top;\n",
              "    }\n",
              "\n",
              "    .dataframe thead th {\n",
              "        text-align: right;\n",
              "    }\n",
              "</style>\n",
              "<table border=\"1\" class=\"dataframe\">\n",
              "  <thead>\n",
              "    <tr style=\"text-align: right;\">\n",
              "      <th></th>\n",
              "      <th>roll</th>\n",
              "      <th>name</th>\n",
              "      <th>class</th>\n",
              "      <th>marks</th>\n",
              "      <th>age</th>\n",
              "    </tr>\n",
              "  </thead>\n",
              "  <tbody>\n",
              "    <tr>\n",
              "      <th>0</th>\n",
              "      <td>1</td>\n",
              "      <td>anil</td>\n",
              "      <td>TE</td>\n",
              "      <td>56.77</td>\n",
              "      <td>22</td>\n",
              "    </tr>\n",
              "    <tr>\n",
              "      <th>1</th>\n",
              "      <td>2</td>\n",
              "      <td>amit</td>\n",
              "      <td>TE</td>\n",
              "      <td>59.77</td>\n",
              "      <td>21</td>\n",
              "    </tr>\n",
              "    <tr>\n",
              "      <th>2</th>\n",
              "      <td>3</td>\n",
              "      <td>aniket</td>\n",
              "      <td>BE</td>\n",
              "      <td>76.88</td>\n",
              "      <td>19</td>\n",
              "    </tr>\n",
              "    <tr>\n",
              "      <th>3</th>\n",
              "      <td>4</td>\n",
              "      <td>ajinkya</td>\n",
              "      <td>TE</td>\n",
              "      <td>69.66</td>\n",
              "      <td>20</td>\n",
              "    </tr>\n",
              "    <tr>\n",
              "      <th>4</th>\n",
              "      <td>5</td>\n",
              "      <td>asha</td>\n",
              "      <td>TE</td>\n",
              "      <td>63.28</td>\n",
              "      <td>20</td>\n",
              "    </tr>\n",
              "    <tr>\n",
              "      <th>5</th>\n",
              "      <td>6</td>\n",
              "      <td>ayesha</td>\n",
              "      <td>BE</td>\n",
              "      <td>49.55</td>\n",
              "      <td>20</td>\n",
              "    </tr>\n",
              "    <tr>\n",
              "      <th>6</th>\n",
              "      <td>7</td>\n",
              "      <td>amar</td>\n",
              "      <td>BE</td>\n",
              "      <td>65.34</td>\n",
              "      <td>19</td>\n",
              "    </tr>\n",
              "    <tr>\n",
              "      <th>7</th>\n",
              "      <td>8</td>\n",
              "      <td>amita</td>\n",
              "      <td>BE</td>\n",
              "      <td>68.33</td>\n",
              "      <td>23</td>\n",
              "    </tr>\n",
              "    <tr>\n",
              "      <th>8</th>\n",
              "      <td>9</td>\n",
              "      <td>amol</td>\n",
              "      <td>TE</td>\n",
              "      <td>56.75</td>\n",
              "      <td>20</td>\n",
              "    </tr>\n",
              "    <tr>\n",
              "      <th>9</th>\n",
              "      <td>10</td>\n",
              "      <td>anmol</td>\n",
              "      <td>BE</td>\n",
              "      <td>78.66</td>\n",
              "      <td>21</td>\n",
              "    </tr>\n",
              "  </tbody>\n",
              "</table>\n",
              "</div>\n",
              "      <button class=\"colab-df-convert\" onclick=\"convertToInteractive('df-30901dc7-0b16-4512-b95c-82a15986ca04')\"\n",
              "              title=\"Convert this dataframe to an interactive table.\"\n",
              "              style=\"display:none;\">\n",
              "        \n",
              "  <svg xmlns=\"http://www.w3.org/2000/svg\" height=\"24px\"viewBox=\"0 0 24 24\"\n",
              "       width=\"24px\">\n",
              "    <path d=\"M0 0h24v24H0V0z\" fill=\"none\"/>\n",
              "    <path d=\"M18.56 5.44l.94 2.06.94-2.06 2.06-.94-2.06-.94-.94-2.06-.94 2.06-2.06.94zm-11 1L8.5 8.5l.94-2.06 2.06-.94-2.06-.94L8.5 2.5l-.94 2.06-2.06.94zm10 10l.94 2.06.94-2.06 2.06-.94-2.06-.94-.94-2.06-.94 2.06-2.06.94z\"/><path d=\"M17.41 7.96l-1.37-1.37c-.4-.4-.92-.59-1.43-.59-.52 0-1.04.2-1.43.59L10.3 9.45l-7.72 7.72c-.78.78-.78 2.05 0 2.83L4 21.41c.39.39.9.59 1.41.59.51 0 1.02-.2 1.41-.59l7.78-7.78 2.81-2.81c.8-.78.8-2.07 0-2.86zM5.41 20L4 18.59l7.72-7.72 1.47 1.35L5.41 20z\"/>\n",
              "  </svg>\n",
              "      </button>\n",
              "      \n",
              "  <style>\n",
              "    .colab-df-container {\n",
              "      display:flex;\n",
              "      flex-wrap:wrap;\n",
              "      gap: 12px;\n",
              "    }\n",
              "\n",
              "    .colab-df-convert {\n",
              "      background-color: #E8F0FE;\n",
              "      border: none;\n",
              "      border-radius: 50%;\n",
              "      cursor: pointer;\n",
              "      display: none;\n",
              "      fill: #1967D2;\n",
              "      height: 32px;\n",
              "      padding: 0 0 0 0;\n",
              "      width: 32px;\n",
              "    }\n",
              "\n",
              "    .colab-df-convert:hover {\n",
              "      background-color: #E2EBFA;\n",
              "      box-shadow: 0px 1px 2px rgba(60, 64, 67, 0.3), 0px 1px 3px 1px rgba(60, 64, 67, 0.15);\n",
              "      fill: #174EA6;\n",
              "    }\n",
              "\n",
              "    [theme=dark] .colab-df-convert {\n",
              "      background-color: #3B4455;\n",
              "      fill: #D2E3FC;\n",
              "    }\n",
              "\n",
              "    [theme=dark] .colab-df-convert:hover {\n",
              "      background-color: #434B5C;\n",
              "      box-shadow: 0px 1px 3px 1px rgba(0, 0, 0, 0.15);\n",
              "      filter: drop-shadow(0px 1px 2px rgba(0, 0, 0, 0.3));\n",
              "      fill: #FFFFFF;\n",
              "    }\n",
              "  </style>\n",
              "\n",
              "      <script>\n",
              "        const buttonEl =\n",
              "          document.querySelector('#df-30901dc7-0b16-4512-b95c-82a15986ca04 button.colab-df-convert');\n",
              "        buttonEl.style.display =\n",
              "          google.colab.kernel.accessAllowed ? 'block' : 'none';\n",
              "\n",
              "        async function convertToInteractive(key) {\n",
              "          const element = document.querySelector('#df-30901dc7-0b16-4512-b95c-82a15986ca04');\n",
              "          const dataTable =\n",
              "            await google.colab.kernel.invokeFunction('convertToInteractive',\n",
              "                                                     [key], {});\n",
              "          if (!dataTable) return;\n",
              "\n",
              "          const docLinkHtml = 'Like what you see? Visit the ' +\n",
              "            '<a target=\"_blank\" href=https://colab.research.google.com/notebooks/data_table.ipynb>data table notebook</a>'\n",
              "            + ' to learn more about interactive tables.';\n",
              "          element.innerHTML = '';\n",
              "          dataTable['output_type'] = 'display_data';\n",
              "          await google.colab.output.renderOutput(dataTable, element);\n",
              "          const docLink = document.createElement('div');\n",
              "          docLink.innerHTML = docLinkHtml;\n",
              "          element.appendChild(docLink);\n",
              "        }\n",
              "      </script>\n",
              "    </div>\n",
              "  </div>\n",
              "  "
            ]
          },
          "metadata": {},
          "execution_count": 77
        }
      ]
    },
    {
      "cell_type": "code",
      "source": [
        "gender=['M','M','M','M','F','F','M','F','M','M']"
      ],
      "metadata": {
        "id": "5vn__xQy27Mq"
      },
      "execution_count": 80,
      "outputs": []
    },
    {
      "cell_type": "code",
      "source": [
        "pdf['gender']=gender"
      ],
      "metadata": {
        "id": "272iA9Kr3fj3"
      },
      "execution_count": 81,
      "outputs": []
    },
    {
      "cell_type": "code",
      "source": [
        "pdf"
      ],
      "metadata": {
        "colab": {
          "base_uri": "https://localhost:8080/",
          "height": 363
        },
        "id": "8Weu_j3X4Kna",
        "outputId": "976b5196-e910-45cd-c531-df3c63665cbc"
      },
      "execution_count": 82,
      "outputs": [
        {
          "output_type": "execute_result",
          "data": {
            "text/plain": [
              "   roll     name class  marks  age gender\n",
              "0     1     anil    TE  56.77   22      M\n",
              "1     2     amit    TE  59.77   21      M\n",
              "2     3   aniket    BE  76.88   19      M\n",
              "3     4  ajinkya    TE  69.66   20      M\n",
              "4     5     asha    TE  63.28   20      F\n",
              "5     6   ayesha    BE  49.55   20      F\n",
              "6     7     amar    BE  65.34   19      M\n",
              "7     8    amita    BE  68.33   23      F\n",
              "8     9     amol    TE  56.75   20      M\n",
              "9    10    anmol    BE  78.66   21      M"
            ],
            "text/html": [
              "\n",
              "  <div id=\"df-c028a6db-efae-4b06-aff1-00eede9b3044\">\n",
              "    <div class=\"colab-df-container\">\n",
              "      <div>\n",
              "<style scoped>\n",
              "    .dataframe tbody tr th:only-of-type {\n",
              "        vertical-align: middle;\n",
              "    }\n",
              "\n",
              "    .dataframe tbody tr th {\n",
              "        vertical-align: top;\n",
              "    }\n",
              "\n",
              "    .dataframe thead th {\n",
              "        text-align: right;\n",
              "    }\n",
              "</style>\n",
              "<table border=\"1\" class=\"dataframe\">\n",
              "  <thead>\n",
              "    <tr style=\"text-align: right;\">\n",
              "      <th></th>\n",
              "      <th>roll</th>\n",
              "      <th>name</th>\n",
              "      <th>class</th>\n",
              "      <th>marks</th>\n",
              "      <th>age</th>\n",
              "      <th>gender</th>\n",
              "    </tr>\n",
              "  </thead>\n",
              "  <tbody>\n",
              "    <tr>\n",
              "      <th>0</th>\n",
              "      <td>1</td>\n",
              "      <td>anil</td>\n",
              "      <td>TE</td>\n",
              "      <td>56.77</td>\n",
              "      <td>22</td>\n",
              "      <td>M</td>\n",
              "    </tr>\n",
              "    <tr>\n",
              "      <th>1</th>\n",
              "      <td>2</td>\n",
              "      <td>amit</td>\n",
              "      <td>TE</td>\n",
              "      <td>59.77</td>\n",
              "      <td>21</td>\n",
              "      <td>M</td>\n",
              "    </tr>\n",
              "    <tr>\n",
              "      <th>2</th>\n",
              "      <td>3</td>\n",
              "      <td>aniket</td>\n",
              "      <td>BE</td>\n",
              "      <td>76.88</td>\n",
              "      <td>19</td>\n",
              "      <td>M</td>\n",
              "    </tr>\n",
              "    <tr>\n",
              "      <th>3</th>\n",
              "      <td>4</td>\n",
              "      <td>ajinkya</td>\n",
              "      <td>TE</td>\n",
              "      <td>69.66</td>\n",
              "      <td>20</td>\n",
              "      <td>M</td>\n",
              "    </tr>\n",
              "    <tr>\n",
              "      <th>4</th>\n",
              "      <td>5</td>\n",
              "      <td>asha</td>\n",
              "      <td>TE</td>\n",
              "      <td>63.28</td>\n",
              "      <td>20</td>\n",
              "      <td>F</td>\n",
              "    </tr>\n",
              "    <tr>\n",
              "      <th>5</th>\n",
              "      <td>6</td>\n",
              "      <td>ayesha</td>\n",
              "      <td>BE</td>\n",
              "      <td>49.55</td>\n",
              "      <td>20</td>\n",
              "      <td>F</td>\n",
              "    </tr>\n",
              "    <tr>\n",
              "      <th>6</th>\n",
              "      <td>7</td>\n",
              "      <td>amar</td>\n",
              "      <td>BE</td>\n",
              "      <td>65.34</td>\n",
              "      <td>19</td>\n",
              "      <td>M</td>\n",
              "    </tr>\n",
              "    <tr>\n",
              "      <th>7</th>\n",
              "      <td>8</td>\n",
              "      <td>amita</td>\n",
              "      <td>BE</td>\n",
              "      <td>68.33</td>\n",
              "      <td>23</td>\n",
              "      <td>F</td>\n",
              "    </tr>\n",
              "    <tr>\n",
              "      <th>8</th>\n",
              "      <td>9</td>\n",
              "      <td>amol</td>\n",
              "      <td>TE</td>\n",
              "      <td>56.75</td>\n",
              "      <td>20</td>\n",
              "      <td>M</td>\n",
              "    </tr>\n",
              "    <tr>\n",
              "      <th>9</th>\n",
              "      <td>10</td>\n",
              "      <td>anmol</td>\n",
              "      <td>BE</td>\n",
              "      <td>78.66</td>\n",
              "      <td>21</td>\n",
              "      <td>M</td>\n",
              "    </tr>\n",
              "  </tbody>\n",
              "</table>\n",
              "</div>\n",
              "      <button class=\"colab-df-convert\" onclick=\"convertToInteractive('df-c028a6db-efae-4b06-aff1-00eede9b3044')\"\n",
              "              title=\"Convert this dataframe to an interactive table.\"\n",
              "              style=\"display:none;\">\n",
              "        \n",
              "  <svg xmlns=\"http://www.w3.org/2000/svg\" height=\"24px\"viewBox=\"0 0 24 24\"\n",
              "       width=\"24px\">\n",
              "    <path d=\"M0 0h24v24H0V0z\" fill=\"none\"/>\n",
              "    <path d=\"M18.56 5.44l.94 2.06.94-2.06 2.06-.94-2.06-.94-.94-2.06-.94 2.06-2.06.94zm-11 1L8.5 8.5l.94-2.06 2.06-.94-2.06-.94L8.5 2.5l-.94 2.06-2.06.94zm10 10l.94 2.06.94-2.06 2.06-.94-2.06-.94-.94-2.06-.94 2.06-2.06.94z\"/><path d=\"M17.41 7.96l-1.37-1.37c-.4-.4-.92-.59-1.43-.59-.52 0-1.04.2-1.43.59L10.3 9.45l-7.72 7.72c-.78.78-.78 2.05 0 2.83L4 21.41c.39.39.9.59 1.41.59.51 0 1.02-.2 1.41-.59l7.78-7.78 2.81-2.81c.8-.78.8-2.07 0-2.86zM5.41 20L4 18.59l7.72-7.72 1.47 1.35L5.41 20z\"/>\n",
              "  </svg>\n",
              "      </button>\n",
              "      \n",
              "  <style>\n",
              "    .colab-df-container {\n",
              "      display:flex;\n",
              "      flex-wrap:wrap;\n",
              "      gap: 12px;\n",
              "    }\n",
              "\n",
              "    .colab-df-convert {\n",
              "      background-color: #E8F0FE;\n",
              "      border: none;\n",
              "      border-radius: 50%;\n",
              "      cursor: pointer;\n",
              "      display: none;\n",
              "      fill: #1967D2;\n",
              "      height: 32px;\n",
              "      padding: 0 0 0 0;\n",
              "      width: 32px;\n",
              "    }\n",
              "\n",
              "    .colab-df-convert:hover {\n",
              "      background-color: #E2EBFA;\n",
              "      box-shadow: 0px 1px 2px rgba(60, 64, 67, 0.3), 0px 1px 3px 1px rgba(60, 64, 67, 0.15);\n",
              "      fill: #174EA6;\n",
              "    }\n",
              "\n",
              "    [theme=dark] .colab-df-convert {\n",
              "      background-color: #3B4455;\n",
              "      fill: #D2E3FC;\n",
              "    }\n",
              "\n",
              "    [theme=dark] .colab-df-convert:hover {\n",
              "      background-color: #434B5C;\n",
              "      box-shadow: 0px 1px 3px 1px rgba(0, 0, 0, 0.15);\n",
              "      filter: drop-shadow(0px 1px 2px rgba(0, 0, 0, 0.3));\n",
              "      fill: #FFFFFF;\n",
              "    }\n",
              "  </style>\n",
              "\n",
              "      <script>\n",
              "        const buttonEl =\n",
              "          document.querySelector('#df-c028a6db-efae-4b06-aff1-00eede9b3044 button.colab-df-convert');\n",
              "        buttonEl.style.display =\n",
              "          google.colab.kernel.accessAllowed ? 'block' : 'none';\n",
              "\n",
              "        async function convertToInteractive(key) {\n",
              "          const element = document.querySelector('#df-c028a6db-efae-4b06-aff1-00eede9b3044');\n",
              "          const dataTable =\n",
              "            await google.colab.kernel.invokeFunction('convertToInteractive',\n",
              "                                                     [key], {});\n",
              "          if (!dataTable) return;\n",
              "\n",
              "          const docLinkHtml = 'Like what you see? Visit the ' +\n",
              "            '<a target=\"_blank\" href=https://colab.research.google.com/notebooks/data_table.ipynb>data table notebook</a>'\n",
              "            + ' to learn more about interactive tables.';\n",
              "          element.innerHTML = '';\n",
              "          dataTable['output_type'] = 'display_data';\n",
              "          await google.colab.output.renderOutput(dataTable, element);\n",
              "          const docLink = document.createElement('div');\n",
              "          docLink.innerHTML = docLinkHtml;\n",
              "          element.appendChild(docLink);\n",
              "        }\n",
              "      </script>\n",
              "    </div>\n",
              "  </div>\n",
              "  "
            ]
          },
          "metadata": {},
          "execution_count": 82
        }
      ]
    },
    {
      "cell_type": "code",
      "source": [
        "pdf['marks']=pdf['marks']+0.5"
      ],
      "metadata": {
        "id": "vjeDPy3x4Qk6"
      },
      "execution_count": 84,
      "outputs": []
    },
    {
      "cell_type": "code",
      "source": [
        "pdf"
      ],
      "metadata": {
        "colab": {
          "base_uri": "https://localhost:8080/",
          "height": 363
        },
        "id": "tWxcoPiK4ooy",
        "outputId": "6d8abfe9-d3b9-418a-8b3d-d48c2ce0194a"
      },
      "execution_count": 85,
      "outputs": [
        {
          "output_type": "execute_result",
          "data": {
            "text/plain": [
              "   roll     name class  marks  age gender\n",
              "0     1     anil    TE  57.27   22      M\n",
              "1     2     amit    TE  60.27   21      M\n",
              "2     3   aniket    BE  77.38   19      M\n",
              "3     4  ajinkya    TE  70.16   20      M\n",
              "4     5     asha    TE  63.78   20      F\n",
              "5     6   ayesha    BE  50.05   20      F\n",
              "6     7     amar    BE  65.84   19      M\n",
              "7     8    amita    BE  68.83   23      F\n",
              "8     9     amol    TE  57.25   20      M\n",
              "9    10    anmol    BE  79.16   21      M"
            ],
            "text/html": [
              "\n",
              "  <div id=\"df-0cbbcfe0-cac5-41d2-bfcb-d626bb4c9331\">\n",
              "    <div class=\"colab-df-container\">\n",
              "      <div>\n",
              "<style scoped>\n",
              "    .dataframe tbody tr th:only-of-type {\n",
              "        vertical-align: middle;\n",
              "    }\n",
              "\n",
              "    .dataframe tbody tr th {\n",
              "        vertical-align: top;\n",
              "    }\n",
              "\n",
              "    .dataframe thead th {\n",
              "        text-align: right;\n",
              "    }\n",
              "</style>\n",
              "<table border=\"1\" class=\"dataframe\">\n",
              "  <thead>\n",
              "    <tr style=\"text-align: right;\">\n",
              "      <th></th>\n",
              "      <th>roll</th>\n",
              "      <th>name</th>\n",
              "      <th>class</th>\n",
              "      <th>marks</th>\n",
              "      <th>age</th>\n",
              "      <th>gender</th>\n",
              "    </tr>\n",
              "  </thead>\n",
              "  <tbody>\n",
              "    <tr>\n",
              "      <th>0</th>\n",
              "      <td>1</td>\n",
              "      <td>anil</td>\n",
              "      <td>TE</td>\n",
              "      <td>57.27</td>\n",
              "      <td>22</td>\n",
              "      <td>M</td>\n",
              "    </tr>\n",
              "    <tr>\n",
              "      <th>1</th>\n",
              "      <td>2</td>\n",
              "      <td>amit</td>\n",
              "      <td>TE</td>\n",
              "      <td>60.27</td>\n",
              "      <td>21</td>\n",
              "      <td>M</td>\n",
              "    </tr>\n",
              "    <tr>\n",
              "      <th>2</th>\n",
              "      <td>3</td>\n",
              "      <td>aniket</td>\n",
              "      <td>BE</td>\n",
              "      <td>77.38</td>\n",
              "      <td>19</td>\n",
              "      <td>M</td>\n",
              "    </tr>\n",
              "    <tr>\n",
              "      <th>3</th>\n",
              "      <td>4</td>\n",
              "      <td>ajinkya</td>\n",
              "      <td>TE</td>\n",
              "      <td>70.16</td>\n",
              "      <td>20</td>\n",
              "      <td>M</td>\n",
              "    </tr>\n",
              "    <tr>\n",
              "      <th>4</th>\n",
              "      <td>5</td>\n",
              "      <td>asha</td>\n",
              "      <td>TE</td>\n",
              "      <td>63.78</td>\n",
              "      <td>20</td>\n",
              "      <td>F</td>\n",
              "    </tr>\n",
              "    <tr>\n",
              "      <th>5</th>\n",
              "      <td>6</td>\n",
              "      <td>ayesha</td>\n",
              "      <td>BE</td>\n",
              "      <td>50.05</td>\n",
              "      <td>20</td>\n",
              "      <td>F</td>\n",
              "    </tr>\n",
              "    <tr>\n",
              "      <th>6</th>\n",
              "      <td>7</td>\n",
              "      <td>amar</td>\n",
              "      <td>BE</td>\n",
              "      <td>65.84</td>\n",
              "      <td>19</td>\n",
              "      <td>M</td>\n",
              "    </tr>\n",
              "    <tr>\n",
              "      <th>7</th>\n",
              "      <td>8</td>\n",
              "      <td>amita</td>\n",
              "      <td>BE</td>\n",
              "      <td>68.83</td>\n",
              "      <td>23</td>\n",
              "      <td>F</td>\n",
              "    </tr>\n",
              "    <tr>\n",
              "      <th>8</th>\n",
              "      <td>9</td>\n",
              "      <td>amol</td>\n",
              "      <td>TE</td>\n",
              "      <td>57.25</td>\n",
              "      <td>20</td>\n",
              "      <td>M</td>\n",
              "    </tr>\n",
              "    <tr>\n",
              "      <th>9</th>\n",
              "      <td>10</td>\n",
              "      <td>anmol</td>\n",
              "      <td>BE</td>\n",
              "      <td>79.16</td>\n",
              "      <td>21</td>\n",
              "      <td>M</td>\n",
              "    </tr>\n",
              "  </tbody>\n",
              "</table>\n",
              "</div>\n",
              "      <button class=\"colab-df-convert\" onclick=\"convertToInteractive('df-0cbbcfe0-cac5-41d2-bfcb-d626bb4c9331')\"\n",
              "              title=\"Convert this dataframe to an interactive table.\"\n",
              "              style=\"display:none;\">\n",
              "        \n",
              "  <svg xmlns=\"http://www.w3.org/2000/svg\" height=\"24px\"viewBox=\"0 0 24 24\"\n",
              "       width=\"24px\">\n",
              "    <path d=\"M0 0h24v24H0V0z\" fill=\"none\"/>\n",
              "    <path d=\"M18.56 5.44l.94 2.06.94-2.06 2.06-.94-2.06-.94-.94-2.06-.94 2.06-2.06.94zm-11 1L8.5 8.5l.94-2.06 2.06-.94-2.06-.94L8.5 2.5l-.94 2.06-2.06.94zm10 10l.94 2.06.94-2.06 2.06-.94-2.06-.94-.94-2.06-.94 2.06-2.06.94z\"/><path d=\"M17.41 7.96l-1.37-1.37c-.4-.4-.92-.59-1.43-.59-.52 0-1.04.2-1.43.59L10.3 9.45l-7.72 7.72c-.78.78-.78 2.05 0 2.83L4 21.41c.39.39.9.59 1.41.59.51 0 1.02-.2 1.41-.59l7.78-7.78 2.81-2.81c.8-.78.8-2.07 0-2.86zM5.41 20L4 18.59l7.72-7.72 1.47 1.35L5.41 20z\"/>\n",
              "  </svg>\n",
              "      </button>\n",
              "      \n",
              "  <style>\n",
              "    .colab-df-container {\n",
              "      display:flex;\n",
              "      flex-wrap:wrap;\n",
              "      gap: 12px;\n",
              "    }\n",
              "\n",
              "    .colab-df-convert {\n",
              "      background-color: #E8F0FE;\n",
              "      border: none;\n",
              "      border-radius: 50%;\n",
              "      cursor: pointer;\n",
              "      display: none;\n",
              "      fill: #1967D2;\n",
              "      height: 32px;\n",
              "      padding: 0 0 0 0;\n",
              "      width: 32px;\n",
              "    }\n",
              "\n",
              "    .colab-df-convert:hover {\n",
              "      background-color: #E2EBFA;\n",
              "      box-shadow: 0px 1px 2px rgba(60, 64, 67, 0.3), 0px 1px 3px 1px rgba(60, 64, 67, 0.15);\n",
              "      fill: #174EA6;\n",
              "    }\n",
              "\n",
              "    [theme=dark] .colab-df-convert {\n",
              "      background-color: #3B4455;\n",
              "      fill: #D2E3FC;\n",
              "    }\n",
              "\n",
              "    [theme=dark] .colab-df-convert:hover {\n",
              "      background-color: #434B5C;\n",
              "      box-shadow: 0px 1px 3px 1px rgba(0, 0, 0, 0.15);\n",
              "      filter: drop-shadow(0px 1px 2px rgba(0, 0, 0, 0.3));\n",
              "      fill: #FFFFFF;\n",
              "    }\n",
              "  </style>\n",
              "\n",
              "      <script>\n",
              "        const buttonEl =\n",
              "          document.querySelector('#df-0cbbcfe0-cac5-41d2-bfcb-d626bb4c9331 button.colab-df-convert');\n",
              "        buttonEl.style.display =\n",
              "          google.colab.kernel.accessAllowed ? 'block' : 'none';\n",
              "\n",
              "        async function convertToInteractive(key) {\n",
              "          const element = document.querySelector('#df-0cbbcfe0-cac5-41d2-bfcb-d626bb4c9331');\n",
              "          const dataTable =\n",
              "            await google.colab.kernel.invokeFunction('convertToInteractive',\n",
              "                                                     [key], {});\n",
              "          if (!dataTable) return;\n",
              "\n",
              "          const docLinkHtml = 'Like what you see? Visit the ' +\n",
              "            '<a target=\"_blank\" href=https://colab.research.google.com/notebooks/data_table.ipynb>data table notebook</a>'\n",
              "            + ' to learn more about interactive tables.';\n",
              "          element.innerHTML = '';\n",
              "          dataTable['output_type'] = 'display_data';\n",
              "          await google.colab.output.renderOutput(dataTable, element);\n",
              "          const docLink = document.createElement('div');\n",
              "          docLink.innerHTML = docLinkHtml;\n",
              "          element.appendChild(docLink);\n",
              "        }\n",
              "      </script>\n",
              "    </div>\n",
              "  </div>\n",
              "  "
            ]
          },
          "metadata": {},
          "execution_count": 85
        }
      ]
    },
    {
      "cell_type": "code",
      "source": [
        "pdf['name']=pdf['name'].str.upper()"
      ],
      "metadata": {
        "id": "6zGhBFgw5lnW"
      },
      "execution_count": 91,
      "outputs": []
    },
    {
      "cell_type": "code",
      "source": [
        "pdf"
      ],
      "metadata": {
        "colab": {
          "base_uri": "https://localhost:8080/",
          "height": 363
        },
        "id": "dGcsKv_U66I2",
        "outputId": "76dceac8-0558-4b53-93c9-5151e820b4c2"
      },
      "execution_count": 92,
      "outputs": [
        {
          "output_type": "execute_result",
          "data": {
            "text/plain": [
              "   roll     name class  marks  age gender\n",
              "0     1     ANIL    TE  57.27   22      M\n",
              "1     2     AMIT    TE  60.27   21      M\n",
              "2     3   ANIKET    BE  77.38   19      M\n",
              "3     4  AJINKYA    TE  70.16   20      M\n",
              "4     5     ASHA    TE  63.78   20      F\n",
              "5     6   AYESHA    BE  50.05   20      F\n",
              "6     7     AMAR    BE  65.84   19      M\n",
              "7     8    AMITA    BE  68.83   23      F\n",
              "8     9     AMOL    TE  57.25   20      M\n",
              "9    10    ANMOL    BE  79.16   21      M"
            ],
            "text/html": [
              "\n",
              "  <div id=\"df-297255a0-f18d-45d0-af57-dccd828ca9d2\">\n",
              "    <div class=\"colab-df-container\">\n",
              "      <div>\n",
              "<style scoped>\n",
              "    .dataframe tbody tr th:only-of-type {\n",
              "        vertical-align: middle;\n",
              "    }\n",
              "\n",
              "    .dataframe tbody tr th {\n",
              "        vertical-align: top;\n",
              "    }\n",
              "\n",
              "    .dataframe thead th {\n",
              "        text-align: right;\n",
              "    }\n",
              "</style>\n",
              "<table border=\"1\" class=\"dataframe\">\n",
              "  <thead>\n",
              "    <tr style=\"text-align: right;\">\n",
              "      <th></th>\n",
              "      <th>roll</th>\n",
              "      <th>name</th>\n",
              "      <th>class</th>\n",
              "      <th>marks</th>\n",
              "      <th>age</th>\n",
              "      <th>gender</th>\n",
              "    </tr>\n",
              "  </thead>\n",
              "  <tbody>\n",
              "    <tr>\n",
              "      <th>0</th>\n",
              "      <td>1</td>\n",
              "      <td>ANIL</td>\n",
              "      <td>TE</td>\n",
              "      <td>57.27</td>\n",
              "      <td>22</td>\n",
              "      <td>M</td>\n",
              "    </tr>\n",
              "    <tr>\n",
              "      <th>1</th>\n",
              "      <td>2</td>\n",
              "      <td>AMIT</td>\n",
              "      <td>TE</td>\n",
              "      <td>60.27</td>\n",
              "      <td>21</td>\n",
              "      <td>M</td>\n",
              "    </tr>\n",
              "    <tr>\n",
              "      <th>2</th>\n",
              "      <td>3</td>\n",
              "      <td>ANIKET</td>\n",
              "      <td>BE</td>\n",
              "      <td>77.38</td>\n",
              "      <td>19</td>\n",
              "      <td>M</td>\n",
              "    </tr>\n",
              "    <tr>\n",
              "      <th>3</th>\n",
              "      <td>4</td>\n",
              "      <td>AJINKYA</td>\n",
              "      <td>TE</td>\n",
              "      <td>70.16</td>\n",
              "      <td>20</td>\n",
              "      <td>M</td>\n",
              "    </tr>\n",
              "    <tr>\n",
              "      <th>4</th>\n",
              "      <td>5</td>\n",
              "      <td>ASHA</td>\n",
              "      <td>TE</td>\n",
              "      <td>63.78</td>\n",
              "      <td>20</td>\n",
              "      <td>F</td>\n",
              "    </tr>\n",
              "    <tr>\n",
              "      <th>5</th>\n",
              "      <td>6</td>\n",
              "      <td>AYESHA</td>\n",
              "      <td>BE</td>\n",
              "      <td>50.05</td>\n",
              "      <td>20</td>\n",
              "      <td>F</td>\n",
              "    </tr>\n",
              "    <tr>\n",
              "      <th>6</th>\n",
              "      <td>7</td>\n",
              "      <td>AMAR</td>\n",
              "      <td>BE</td>\n",
              "      <td>65.84</td>\n",
              "      <td>19</td>\n",
              "      <td>M</td>\n",
              "    </tr>\n",
              "    <tr>\n",
              "      <th>7</th>\n",
              "      <td>8</td>\n",
              "      <td>AMITA</td>\n",
              "      <td>BE</td>\n",
              "      <td>68.83</td>\n",
              "      <td>23</td>\n",
              "      <td>F</td>\n",
              "    </tr>\n",
              "    <tr>\n",
              "      <th>8</th>\n",
              "      <td>9</td>\n",
              "      <td>AMOL</td>\n",
              "      <td>TE</td>\n",
              "      <td>57.25</td>\n",
              "      <td>20</td>\n",
              "      <td>M</td>\n",
              "    </tr>\n",
              "    <tr>\n",
              "      <th>9</th>\n",
              "      <td>10</td>\n",
              "      <td>ANMOL</td>\n",
              "      <td>BE</td>\n",
              "      <td>79.16</td>\n",
              "      <td>21</td>\n",
              "      <td>M</td>\n",
              "    </tr>\n",
              "  </tbody>\n",
              "</table>\n",
              "</div>\n",
              "      <button class=\"colab-df-convert\" onclick=\"convertToInteractive('df-297255a0-f18d-45d0-af57-dccd828ca9d2')\"\n",
              "              title=\"Convert this dataframe to an interactive table.\"\n",
              "              style=\"display:none;\">\n",
              "        \n",
              "  <svg xmlns=\"http://www.w3.org/2000/svg\" height=\"24px\"viewBox=\"0 0 24 24\"\n",
              "       width=\"24px\">\n",
              "    <path d=\"M0 0h24v24H0V0z\" fill=\"none\"/>\n",
              "    <path d=\"M18.56 5.44l.94 2.06.94-2.06 2.06-.94-2.06-.94-.94-2.06-.94 2.06-2.06.94zm-11 1L8.5 8.5l.94-2.06 2.06-.94-2.06-.94L8.5 2.5l-.94 2.06-2.06.94zm10 10l.94 2.06.94-2.06 2.06-.94-2.06-.94-.94-2.06-.94 2.06-2.06.94z\"/><path d=\"M17.41 7.96l-1.37-1.37c-.4-.4-.92-.59-1.43-.59-.52 0-1.04.2-1.43.59L10.3 9.45l-7.72 7.72c-.78.78-.78 2.05 0 2.83L4 21.41c.39.39.9.59 1.41.59.51 0 1.02-.2 1.41-.59l7.78-7.78 2.81-2.81c.8-.78.8-2.07 0-2.86zM5.41 20L4 18.59l7.72-7.72 1.47 1.35L5.41 20z\"/>\n",
              "  </svg>\n",
              "      </button>\n",
              "      \n",
              "  <style>\n",
              "    .colab-df-container {\n",
              "      display:flex;\n",
              "      flex-wrap:wrap;\n",
              "      gap: 12px;\n",
              "    }\n",
              "\n",
              "    .colab-df-convert {\n",
              "      background-color: #E8F0FE;\n",
              "      border: none;\n",
              "      border-radius: 50%;\n",
              "      cursor: pointer;\n",
              "      display: none;\n",
              "      fill: #1967D2;\n",
              "      height: 32px;\n",
              "      padding: 0 0 0 0;\n",
              "      width: 32px;\n",
              "    }\n",
              "\n",
              "    .colab-df-convert:hover {\n",
              "      background-color: #E2EBFA;\n",
              "      box-shadow: 0px 1px 2px rgba(60, 64, 67, 0.3), 0px 1px 3px 1px rgba(60, 64, 67, 0.15);\n",
              "      fill: #174EA6;\n",
              "    }\n",
              "\n",
              "    [theme=dark] .colab-df-convert {\n",
              "      background-color: #3B4455;\n",
              "      fill: #D2E3FC;\n",
              "    }\n",
              "\n",
              "    [theme=dark] .colab-df-convert:hover {\n",
              "      background-color: #434B5C;\n",
              "      box-shadow: 0px 1px 3px 1px rgba(0, 0, 0, 0.15);\n",
              "      filter: drop-shadow(0px 1px 2px rgba(0, 0, 0, 0.3));\n",
              "      fill: #FFFFFF;\n",
              "    }\n",
              "  </style>\n",
              "\n",
              "      <script>\n",
              "        const buttonEl =\n",
              "          document.querySelector('#df-297255a0-f18d-45d0-af57-dccd828ca9d2 button.colab-df-convert');\n",
              "        buttonEl.style.display =\n",
              "          google.colab.kernel.accessAllowed ? 'block' : 'none';\n",
              "\n",
              "        async function convertToInteractive(key) {\n",
              "          const element = document.querySelector('#df-297255a0-f18d-45d0-af57-dccd828ca9d2');\n",
              "          const dataTable =\n",
              "            await google.colab.kernel.invokeFunction('convertToInteractive',\n",
              "                                                     [key], {});\n",
              "          if (!dataTable) return;\n",
              "\n",
              "          const docLinkHtml = 'Like what you see? Visit the ' +\n",
              "            '<a target=\"_blank\" href=https://colab.research.google.com/notebooks/data_table.ipynb>data table notebook</a>'\n",
              "            + ' to learn more about interactive tables.';\n",
              "          element.innerHTML = '';\n",
              "          dataTable['output_type'] = 'display_data';\n",
              "          await google.colab.output.renderOutput(dataTable, element);\n",
              "          const docLink = document.createElement('div');\n",
              "          docLink.innerHTML = docLinkHtml;\n",
              "          element.appendChild(docLink);\n",
              "        }\n",
              "      </script>\n",
              "    </div>\n",
              "  </div>\n",
              "  "
            ]
          },
          "metadata": {},
          "execution_count": 92
        }
      ]
    },
    {
      "cell_type": "code",
      "source": [
        "pdf['marks'].plot()"
      ],
      "metadata": {
        "colab": {
          "base_uri": "https://localhost:8080/",
          "height": 282
        },
        "id": "HLe2RPmb7R_N",
        "outputId": "e0e33342-2f56-42e8-9c72-4c955d3f0e23"
      },
      "execution_count": 93,
      "outputs": [
        {
          "output_type": "execute_result",
          "data": {
            "text/plain": [
              "<matplotlib.axes._subplots.AxesSubplot at 0x7f53edb9bfd0>"
            ]
          },
          "metadata": {},
          "execution_count": 93
        },
        {
          "output_type": "display_data",
          "data": {
            "text/plain": [
              "<Figure size 432x288 with 1 Axes>"
            ],
            "image/png": "[encoded data removed]"
          },
          "metadata": {
            "needs_background": "light"
          }
        }
      ]
    },
    {
      "cell_type": "code",
      "source": [
        "pdf.plot()"
      ],
      "metadata": {
        "colab": {
          "base_uri": "https://localhost:8080/",
          "height": 282
        },
        "id": "tHHRxVDO7ixN",
        "outputId": "43117a29-a3b7-41e3-c31e-1e288a7ad751"
      },
      "execution_count": 95,
      "outputs": [
        {
          "output_type": "execute_result",
          "data": {
            "text/plain": [
              "<matplotlib.axes._subplots.AxesSubplot at 0x7f53ed7dbc40>"
            ]
          },
          "metadata": {},
          "execution_count": 95
        },
        {
          "output_type": "display_data",
          "data": {
            "text/plain": [
              "<Figure size 432x288 with 1 Axes>"
            ],
            "image/png": "[encoded data removed]"
          },
          "metadata": {
            "needs_background": "light"
          }
        }
      ]
    },
    {
      "cell_type": "code",
      "source": [
        "pdf.plot.bar()"
      ],
      "metadata": {
        "colab": {
          "base_uri": "https://localhost:8080/",
          "height": 279
        },
        "id": "8vmawYPq7_1D",
        "outputId": "f87f0203-fe1b-408f-af31-a4b58a585993"
      },
      "execution_count": 96,
      "outputs": [
        {
          "output_type": "execute_result",
          "data": {
            "text/plain": [
              "<matplotlib.axes._subplots.AxesSubplot at 0x7f53ed2b5880>"
            ]
          },
          "metadata": {},
          "execution_count": 96
        },
        {
          "output_type": "display_data",
          "data": {
            "text/plain": [
              "<Figure size 432x288 with 1 Axes>"
            ],
            "image/png": "[encoded data removed]"
          },
          "metadata": {
            "needs_background": "light"
          }
        }
      ]
    },
    {
      "cell_type": "code",
      "source": [
        "pdf['marks'].plot.hist()"
      ],
      "metadata": {
        "colab": {
          "base_uri": "https://localhost:8080/",
          "height": 282
        },
        "id": "2FU0tXFs8SxT",
        "outputId": "fee37095-1434-43b4-9d3e-5fed36a4799b"
      },
      "execution_count": 99,
      "outputs": [
        {
          "output_type": "execute_result",
          "data": {
            "text/plain": [
              "<matplotlib.axes._subplots.AxesSubplot at 0x7f53ed0e3dc0>"
            ]
          },
          "metadata": {},
          "execution_count": 99
        },
        {
          "output_type": "display_data",
          "data": {
            "text/plain": [
              "<Figure size 432x288 with 1 Axes>"
            ],
            "image/png": "[encoded data removed]"
          },
          "metadata": {
            "needs_background": "light"
          }
        }
      ]
    },
    {
      "cell_type": "code",
      "source": [
        "pdf['marks'].plot.box()"
      ],
      "metadata": {
        "colab": {
          "base_uri": "https://localhost:8080/",
          "height": 282
        },
        "id": "FSXgU5mA8u_K",
        "outputId": "f1624e06-2b1b-459e-adeb-8f7257292466"
      },
      "execution_count": 100,
      "outputs": [
        {
          "output_type": "execute_result",
          "data": {
            "text/plain": [
              "<matplotlib.axes._subplots.AxesSubplot at 0x7f53ed058e20>"
            ]
          },
          "metadata": {},
          "execution_count": 100
        },
        {
          "output_type": "display_data",
          "data": {
            "text/plain": [
              "<Figure size 432x288 with 1 Axes>"
            ],
            "image/png": "[encoded data removed]"
          },
          "metadata": {
            "needs_background": "light"
          }
        }
      ]
    },
    {
      "cell_type": "code",
      "source": [
        "pdf.plot.box()"
      ],
      "metadata": {
        "colab": {
          "base_uri": "https://localhost:8080/",
          "height": 282
        },
        "id": "TbSl4dpE9DL9",
        "outputId": "6969006c-bd1a-46e8-9114-371306ea62f4"
      },
      "execution_count": 101,
      "outputs": [
        {
          "output_type": "execute_result",
          "data": {
            "text/plain": [
              "<matplotlib.axes._subplots.AxesSubplot at 0x7f53ed05d5b0>"
            ]
          },
          "metadata": {},
          "execution_count": 101
        },
        {
          "output_type": "display_data",
          "data": {
            "text/plain": [
              "<Figure size 432x288 with 1 Axes>"
            ],
            "image/png": "[encoded data removed]"
          },
          "metadata": {
            "needs_background": "light"
          }
        }
      ]
    },
    {
      "cell_type": "code",
      "source": [
        "pdf['marks'].plot.pie()"
      ],
      "metadata": {
        "colab": {
          "base_uri": "https://localhost:8080/",
          "height": 265
        },
        "id": "kr0_4LLD9XGX",
        "outputId": "f341d4dd-70f9-410f-f56c-ca158c26374e"
      },
      "execution_count": 102,
      "outputs": [
        {
          "data": {
            "text/plain": [
              "<matplotlib.axes._subplots.AxesSubplot at 0x7f53ecfae220>"
            ]
          },
          "execution_count": 102,
          "metadata": {},
          "output_type": "execute_result"
        },
        {
          "data": {
            "image/png": "[encoded data removed]",
            "text/plain": [
              "<Figure size 432x288 with 1 Axes>"
            ]
          },
          "metadata": {},
          "output_type": "display_data"
        }
      ]
    },
    {
      "cell_type": "code",
      "source": [
        "# Check the data in vertical format\n",
        "df4.show(n=3,vertical=True)"
      ],
      "metadata": {
        "colab": {
          "base_uri": "https://localhost:8080/"
        },
        "id": "kjD5ECg997GM",
        "outputId": "23dfece2-0184-47f5-c7df-f0fb50b64713"
      },
      "execution_count": 106,
      "outputs": [
        {
          "output_type": "stream",
          "name": "stdout",
          "text": [
            "-RECORD 0-------\n",
            " roll  | 1      \n",
            " name  | anil   \n",
            " class | TE     \n",
            " marks | 56.77  \n",
            " age   | 22     \n",
            "-RECORD 1-------\n",
            " roll  | 2      \n",
            " name  | amit   \n",
            " class | TE     \n",
            " marks | 59.77  \n",
            " age   | 21     \n",
            "-RECORD 2-------\n",
            " roll  | 3      \n",
            " name  | aniket \n",
            " class | BE     \n",
            " marks | 76.88  \n",
            " age   | 19     \n",
            "only showing top 3 rows\n",
            "\n",
            "-RECORD 0-------\n",
            " roll  | 1      \n",
            " name  | anil   \n",
            " class | TE     \n",
            " marks | 56.77  \n",
            " age   | 22     \n",
            "-RECORD 1-------\n",
            " roll  | 2      \n",
            " name  | amit   \n",
            " class | TE     \n",
            " marks | 59.77  \n",
            " age   | 21     \n",
            "-RECORD 2-------\n",
            " roll  | 3      \n",
            " name  | aniket \n",
            " class | BE     \n",
            " marks | 76.88  \n",
            " age   | 19     \n",
            "only showing top 3 rows\n",
            "\n"
          ]
        }
      ]
    },
    {
      "cell_type": "code",
      "source": [
        "# Check the data in sorted fashion\n",
        "df4.orderBy('marks').show(5) "
      ],
      "metadata": {
        "colab": {
          "base_uri": "https://localhost:8080/"
        },
        "id": "IkqsMCRV-orq",
        "outputId": "3c20df4b-a20f-4d38-9a4b-3c598f1fc035"
      },
      "execution_count": 107,
      "outputs": [
        {
          "output_type": "stream",
          "name": "stdout",
          "text": [
            "+----+------+-----+-----+---+\n",
            "|roll|  name|class|marks|age|\n",
            "+----+------+-----+-----+---+\n",
            "|   6|ayesha|   BE|49.55| 20|\n",
            "|   9|  amol|   TE|56.75| 20|\n",
            "|   1|  anil|   TE|56.77| 22|\n",
            "|   2|  amit|   TE|59.77| 21|\n",
            "|   5|  asha|   TE|63.28| 20|\n",
            "+----+------+-----+-----+---+\n",
            "only showing top 5 rows\n",
            "\n",
            "+----+------+-----+-----+---+\n",
            "|roll|  name|class|marks|age|\n",
            "+----+------+-----+-----+---+\n",
            "|   6|ayesha|   BE|49.55| 20|\n",
            "|   9|  amol|   TE|56.75| 20|\n",
            "|   1|  anil|   TE|56.77| 22|\n",
            "|   2|  amit|   TE|59.77| 21|\n",
            "|   5|  asha|   TE|63.28| 20|\n",
            "+----+------+-----+-----+---+\n",
            "only showing top 5 rows\n",
            "\n"
          ]
        }
      ]
    },
    {
      "cell_type": "code",
      "source": [
        "pdf.sort_values(by='marks',ascending=False).head()"
      ],
      "metadata": {
        "colab": {
          "base_uri": "https://localhost:8080/",
          "height": 206
        },
        "id": "kBCPzvmH-1k9",
        "outputId": "b5c3e464-27cb-4322-832c-783144022a60"
      },
      "execution_count": 108,
      "outputs": [
        {
          "output_type": "execute_result",
          "data": {
            "text/plain": [
              "   roll     name class  marks  age gender\n",
              "9    10    ANMOL    BE  79.16   21      M\n",
              "2     3   ANIKET    BE  77.38   19      M\n",
              "3     4  AJINKYA    TE  70.16   20      M\n",
              "7     8    AMITA    BE  68.83   23      F\n",
              "6     7     AMAR    BE  65.84   19      M"
            ],
            "text/html": [
              "\n",
              "  <div id=\"df-9d6ecdea-309d-4a14-a308-dd987f8237da\">\n",
              "    <div class=\"colab-df-container\">\n",
              "      <div>\n",
              "<style scoped>\n",
              "    .dataframe tbody tr th:only-of-type {\n",
              "        vertical-align: middle;\n",
              "    }\n",
              "\n",
              "    .dataframe tbody tr th {\n",
              "        vertical-align: top;\n",
              "    }\n",
              "\n",
              "    .dataframe thead th {\n",
              "        text-align: right;\n",
              "    }\n",
              "</style>\n",
              "<table border=\"1\" class=\"dataframe\">\n",
              "  <thead>\n",
              "    <tr style=\"text-align: right;\">\n",
              "      <th></th>\n",
              "      <th>roll</th>\n",
              "      <th>name</th>\n",
              "      <th>class</th>\n",
              "      <th>marks</th>\n",
              "      <th>age</th>\n",
              "      <th>gender</th>\n",
              "    </tr>\n",
              "  </thead>\n",
              "  <tbody>\n",
              "    <tr>\n",
              "      <th>9</th>\n",
              "      <td>10</td>\n",
              "      <td>ANMOL</td>\n",
              "      <td>BE</td>\n",
              "      <td>79.16</td>\n",
              "      <td>21</td>\n",
              "      <td>M</td>\n",
              "    </tr>\n",
              "    <tr>\n",
              "      <th>2</th>\n",
              "      <td>3</td>\n",
              "      <td>ANIKET</td>\n",
              "      <td>BE</td>\n",
              "      <td>77.38</td>\n",
              "      <td>19</td>\n",
              "      <td>M</td>\n",
              "    </tr>\n",
              "    <tr>\n",
              "      <th>3</th>\n",
              "      <td>4</td>\n",
              "      <td>AJINKYA</td>\n",
              "      <td>TE</td>\n",
              "      <td>70.16</td>\n",
              "      <td>20</td>\n",
              "      <td>M</td>\n",
              "    </tr>\n",
              "    <tr>\n",
              "      <th>7</th>\n",
              "      <td>8</td>\n",
              "      <td>AMITA</td>\n",
              "      <td>BE</td>\n",
              "      <td>68.83</td>\n",
              "      <td>23</td>\n",
              "      <td>F</td>\n",
              "    </tr>\n",
              "    <tr>\n",
              "      <th>6</th>\n",
              "      <td>7</td>\n",
              "      <td>AMAR</td>\n",
              "      <td>BE</td>\n",
              "      <td>65.84</td>\n",
              "      <td>19</td>\n",
              "      <td>M</td>\n",
              "    </tr>\n",
              "  </tbody>\n",
              "</table>\n",
              "</div>\n",
              "      <button class=\"colab-df-convert\" onclick=\"convertToInteractive('df-9d6ecdea-309d-4a14-a308-dd987f8237da')\"\n",
              "              title=\"Convert this dataframe to an interactive table.\"\n",
              "              style=\"display:none;\">\n",
              "        \n",
              "  <svg xmlns=\"http://www.w3.org/2000/svg\" height=\"24px\"viewBox=\"0 0 24 24\"\n",
              "       width=\"24px\">\n",
              "    <path d=\"M0 0h24v24H0V0z\" fill=\"none\"/>\n",
              "    <path d=\"M18.56 5.44l.94 2.06.94-2.06 2.06-.94-2.06-.94-.94-2.06-.94 2.06-2.06.94zm-11 1L8.5 8.5l.94-2.06 2.06-.94-2.06-.94L8.5 2.5l-.94 2.06-2.06.94zm10 10l.94 2.06.94-2.06 2.06-.94-2.06-.94-.94-2.06-.94 2.06-2.06.94z\"/><path d=\"M17.41 7.96l-1.37-1.37c-.4-.4-.92-.59-1.43-.59-.52 0-1.04.2-1.43.59L10.3 9.45l-7.72 7.72c-.78.78-.78 2.05 0 2.83L4 21.41c.39.39.9.59 1.41.59.51 0 1.02-.2 1.41-.59l7.78-7.78 2.81-2.81c.8-.78.8-2.07 0-2.86zM5.41 20L4 18.59l7.72-7.72 1.47 1.35L5.41 20z\"/>\n",
              "  </svg>\n",
              "      </button>\n",
              "      \n",
              "  <style>\n",
              "    .colab-df-container {\n",
              "      display:flex;\n",
              "      flex-wrap:wrap;\n",
              "      gap: 12px;\n",
              "    }\n",
              "\n",
              "    .colab-df-convert {\n",
              "      background-color: #E8F0FE;\n",
              "      border: none;\n",
              "      border-radius: 50%;\n",
              "      cursor: pointer;\n",
              "      display: none;\n",
              "      fill: #1967D2;\n",
              "      height: 32px;\n",
              "      padding: 0 0 0 0;\n",
              "      width: 32px;\n",
              "    }\n",
              "\n",
              "    .colab-df-convert:hover {\n",
              "      background-color: #E2EBFA;\n",
              "      box-shadow: 0px 1px 2px rgba(60, 64, 67, 0.3), 0px 1px 3px 1px rgba(60, 64, 67, 0.15);\n",
              "      fill: #174EA6;\n",
              "    }\n",
              "\n",
              "    [theme=dark] .colab-df-convert {\n",
              "      background-color: #3B4455;\n",
              "      fill: #D2E3FC;\n",
              "    }\n",
              "\n",
              "    [theme=dark] .colab-df-convert:hover {\n",
              "      background-color: #434B5C;\n",
              "      box-shadow: 0px 1px 3px 1px rgba(0, 0, 0, 0.15);\n",
              "      filter: drop-shadow(0px 1px 2px rgba(0, 0, 0, 0.3));\n",
              "      fill: #FFFFFF;\n",
              "    }\n",
              "  </style>\n",
              "\n",
              "      <script>\n",
              "        const buttonEl =\n",
              "          document.querySelector('#df-9d6ecdea-309d-4a14-a308-dd987f8237da button.colab-df-convert');\n",
              "        buttonEl.style.display =\n",
              "          google.colab.kernel.accessAllowed ? 'block' : 'none';\n",
              "\n",
              "        async function convertToInteractive(key) {\n",
              "          const element = document.querySelector('#df-9d6ecdea-309d-4a14-a308-dd987f8237da');\n",
              "          const dataTable =\n",
              "            await google.colab.kernel.invokeFunction('convertToInteractive',\n",
              "                                                     [key], {});\n",
              "          if (!dataTable) return;\n",
              "\n",
              "          const docLinkHtml = 'Like what you see? Visit the ' +\n",
              "            '<a target=\"_blank\" href=https://colab.research.google.com/notebooks/data_table.ipynb>data table notebook</a>'\n",
              "            + ' to learn more about interactive tables.';\n",
              "          element.innerHTML = '';\n",
              "          dataTable['output_type'] = 'display_data';\n",
              "          await google.colab.output.renderOutput(dataTable, element);\n",
              "          const docLink = document.createElement('div');\n",
              "          docLink.innerHTML = docLinkHtml;\n",
              "          element.appendChild(docLink);\n",
              "        }\n",
              "      </script>\n",
              "    </div>\n",
              "  </div>\n",
              "  "
            ]
          },
          "metadata": {},
          "execution_count": 108
        }
      ]
    },
    {
      "cell_type": "code",
      "source": [
        "df4.describe().show()"
      ],
      "metadata": {
        "colab": {
          "base_uri": "https://localhost:8080/"
        },
        "id": "zP_PnwHt_kdP",
        "outputId": "d28e49b4-263c-4426-826c-1c594676dd7b"
      },
      "execution_count": 109,
      "outputs": [
        {
          "output_type": "stream",
          "name": "stdout",
          "text": [
            "+-------+------------------+-------+-----+-----------------+------------------+\n",
            "|summary|              roll|   name|class|            marks|               age|\n",
            "+-------+------------------+-------+-----+-----------------+------------------+\n",
            "|  count|                10|     10|   10|               10|                10|\n",
            "|   mean|               5.5|   null| null|           64.499|              20.5|\n",
            "| stddev|3.0276503540974917|   null| null|9.207178901994537|1.2692955176439846|\n",
            "|    min|                 1|ajinkya|   BE|            49.55|                19|\n",
            "|    max|                10| ayesha|   TE|            78.66|                23|\n",
            "+-------+------------------+-------+-----+-----------------+------------------+\n",
            "\n"
          ]
        }
      ]
    },
    {
      "cell_type": "code",
      "source": [
        "pdf.describe()"
      ],
      "metadata": {
        "colab": {
          "base_uri": "https://localhost:8080/",
          "height": 300
        },
        "id": "AtukjZLx_ru9",
        "outputId": "256b9be2-7657-4c30-fd1c-ed7619feb6ba"
      },
      "execution_count": 110,
      "outputs": [
        {
          "output_type": "execute_result",
          "data": {
            "text/plain": [
              "           roll      marks        age\n",
              "count  10.00000  10.000000  10.000000\n",
              "mean    5.50000  64.999000  20.500000\n",
              "std     3.02765   9.207179   1.269296\n",
              "min     1.00000  50.050000  19.000000\n",
              "25%     3.25000  58.020000  20.000000\n",
              "50%     5.50000  64.810000  20.000000\n",
              "75%     7.75000  69.827500  21.000000\n",
              "max    10.00000  79.160000  23.000000"
            ],
            "text/html": [
              "\n",
              "  <div id=\"df-6af05dcc-5231-40b6-ac54-07b67175acec\">\n",
              "    <div class=\"colab-df-container\">\n",
              "      <div>\n",
              "<style scoped>\n",
              "    .dataframe tbody tr th:only-of-type {\n",
              "        vertical-align: middle;\n",
              "    }\n",
              "\n",
              "    .dataframe tbody tr th {\n",
              "        vertical-align: top;\n",
              "    }\n",
              "\n",
              "    .dataframe thead th {\n",
              "        text-align: right;\n",
              "    }\n",
              "</style>\n",
              "<table border=\"1\" class=\"dataframe\">\n",
              "  <thead>\n",
              "    <tr style=\"text-align: right;\">\n",
              "      <th></th>\n",
              "      <th>roll</th>\n",
              "      <th>marks</th>\n",
              "      <th>age</th>\n",
              "    </tr>\n",
              "  </thead>\n",
              "  <tbody>\n",
              "    <tr>\n",
              "      <th>count</th>\n",
              "      <td>10.00000</td>\n",
              "      <td>10.000000</td>\n",
              "      <td>10.000000</td>\n",
              "    </tr>\n",
              "    <tr>\n",
              "      <th>mean</th>\n",
              "      <td>5.50000</td>\n",
              "      <td>64.999000</td>\n",
              "      <td>20.500000</td>\n",
              "    </tr>\n",
              "    <tr>\n",
              "      <th>std</th>\n",
              "      <td>3.02765</td>\n",
              "      <td>9.207179</td>\n",
              "      <td>1.269296</td>\n",
              "    </tr>\n",
              "    <tr>\n",
              "      <th>min</th>\n",
              "      <td>1.00000</td>\n",
              "      <td>50.050000</td>\n",
              "      <td>19.000000</td>\n",
              "    </tr>\n",
              "    <tr>\n",
              "      <th>25%</th>\n",
              "      <td>3.25000</td>\n",
              "      <td>58.020000</td>\n",
              "      <td>20.000000</td>\n",
              "    </tr>\n",
              "    <tr>\n",
              "      <th>50%</th>\n",
              "      <td>5.50000</td>\n",
              "      <td>64.810000</td>\n",
              "      <td>20.000000</td>\n",
              "    </tr>\n",
              "    <tr>\n",
              "      <th>75%</th>\n",
              "      <td>7.75000</td>\n",
              "      <td>69.827500</td>\n",
              "      <td>21.000000</td>\n",
              "    </tr>\n",
              "    <tr>\n",
              "      <th>max</th>\n",
              "      <td>10.00000</td>\n",
              "      <td>79.160000</td>\n",
              "      <td>23.000000</td>\n",
              "    </tr>\n",
              "  </tbody>\n",
              "</table>\n",
              "</div>\n",
              "      <button class=\"colab-df-convert\" onclick=\"convertToInteractive('df-6af05dcc-5231-40b6-ac54-07b67175acec')\"\n",
              "              title=\"Convert this dataframe to an interactive table.\"\n",
              "              style=\"display:none;\">\n",
              "        \n",
              "  <svg xmlns=\"http://www.w3.org/2000/svg\" height=\"24px\"viewBox=\"0 0 24 24\"\n",
              "       width=\"24px\">\n",
              "    <path d=\"M0 0h24v24H0V0z\" fill=\"none\"/>\n",
              "    <path d=\"M18.56 5.44l.94 2.06.94-2.06 2.06-.94-2.06-.94-.94-2.06-.94 2.06-2.06.94zm-11 1L8.5 8.5l.94-2.06 2.06-.94-2.06-.94L8.5 2.5l-.94 2.06-2.06.94zm10 10l.94 2.06.94-2.06 2.06-.94-2.06-.94-.94-2.06-.94 2.06-2.06.94z\"/><path d=\"M17.41 7.96l-1.37-1.37c-.4-.4-.92-.59-1.43-.59-.52 0-1.04.2-1.43.59L10.3 9.45l-7.72 7.72c-.78.78-.78 2.05 0 2.83L4 21.41c.39.39.9.59 1.41.59.51 0 1.02-.2 1.41-.59l7.78-7.78 2.81-2.81c.8-.78.8-2.07 0-2.86zM5.41 20L4 18.59l7.72-7.72 1.47 1.35L5.41 20z\"/>\n",
              "  </svg>\n",
              "      </button>\n",
              "      \n",
              "  <style>\n",
              "    .colab-df-container {\n",
              "      display:flex;\n",
              "      flex-wrap:wrap;\n",
              "      gap: 12px;\n",
              "    }\n",
              "\n",
              "    .colab-df-convert {\n",
              "      background-color: #E8F0FE;\n",
              "      border: none;\n",
              "      border-radius: 50%;\n",
              "      cursor: pointer;\n",
              "      display: none;\n",
              "      fill: #1967D2;\n",
              "      height: 32px;\n",
              "      padding: 0 0 0 0;\n",
              "      width: 32px;\n",
              "    }\n",
              "\n",
              "    .colab-df-convert:hover {\n",
              "      background-color: #E2EBFA;\n",
              "      box-shadow: 0px 1px 2px rgba(60, 64, 67, 0.3), 0px 1px 3px 1px rgba(60, 64, 67, 0.15);\n",
              "      fill: #174EA6;\n",
              "    }\n",
              "\n",
              "    [theme=dark] .colab-df-convert {\n",
              "      background-color: #3B4455;\n",
              "      fill: #D2E3FC;\n",
              "    }\n",
              "\n",
              "    [theme=dark] .colab-df-convert:hover {\n",
              "      background-color: #434B5C;\n",
              "      box-shadow: 0px 1px 3px 1px rgba(0, 0, 0, 0.15);\n",
              "      filter: drop-shadow(0px 1px 2px rgba(0, 0, 0, 0.3));\n",
              "      fill: #FFFFFF;\n",
              "    }\n",
              "  </style>\n",
              "\n",
              "      <script>\n",
              "        const buttonEl =\n",
              "          document.querySelector('#df-6af05dcc-5231-40b6-ac54-07b67175acec button.colab-df-convert');\n",
              "        buttonEl.style.display =\n",
              "          google.colab.kernel.accessAllowed ? 'block' : 'none';\n",
              "\n",
              "        async function convertToInteractive(key) {\n",
              "          const element = document.querySelector('#df-6af05dcc-5231-40b6-ac54-07b67175acec');\n",
              "          const dataTable =\n",
              "            await google.colab.kernel.invokeFunction('convertToInteractive',\n",
              "                                                     [key], {});\n",
              "          if (!dataTable) return;\n",
              "\n",
              "          const docLinkHtml = 'Like what you see? Visit the ' +\n",
              "            '<a target=\"_blank\" href=https://colab.research.google.com/notebooks/data_table.ipynb>data table notebook</a>'\n",
              "            + ' to learn more about interactive tables.';\n",
              "          element.innerHTML = '';\n",
              "          dataTable['output_type'] = 'display_data';\n",
              "          await google.colab.output.renderOutput(dataTable, element);\n",
              "          const docLink = document.createElement('div');\n",
              "          docLink.innerHTML = docLinkHtml;\n",
              "          element.appendChild(docLink);\n",
              "        }\n",
              "      </script>\n",
              "    </div>\n",
              "  </div>\n",
              "  "
            ]
          },
          "metadata": {},
          "execution_count": 110
        }
      ]
    },
    {
      "cell_type": "code",
      "source": [
        "# aggregate function\n",
        "df4.agg({'marks':'min'}).show()"
      ],
      "metadata": {
        "colab": {
          "base_uri": "https://localhost:8080/"
        },
        "id": "2o9alJOLAM4n",
        "outputId": "0942914a-505c-4367-a6a7-b1b4603628ee"
      },
      "execution_count": 111,
      "outputs": [
        {
          "output_type": "stream",
          "name": "stdout",
          "text": [
            "+----------+\n",
            "|min(marks)|\n",
            "+----------+\n",
            "|     49.55|\n",
            "+----------+\n",
            "\n"
          ]
        }
      ]
    },
    {
      "cell_type": "code",
      "source": [
        "df4.agg({'marks':'stddev'}).show()"
      ],
      "metadata": {
        "colab": {
          "base_uri": "https://localhost:8080/"
        },
        "id": "YDMSKQ9tAh_G",
        "outputId": "b997609a-b761-417f-e04b-ddfba070e749"
      },
      "execution_count": 112,
      "outputs": [
        {
          "output_type": "stream",
          "name": "stdout",
          "text": [
            "+-----------------+\n",
            "|    stddev(marks)|\n",
            "+-----------------+\n",
            "|9.207178901994537|\n",
            "+-----------------+\n",
            "\n"
          ]
        }
      ]
    },
    {
      "cell_type": "code",
      "source": [
        "df4.agg({'marks':'mean'}).show()"
      ],
      "metadata": {
        "colab": {
          "base_uri": "https://localhost:8080/"
        },
        "id": "ExB-FzfFAuGX",
        "outputId": "9303b42d-1507-4eb2-e325-1c25af584ada"
      },
      "execution_count": 113,
      "outputs": [
        {
          "output_type": "stream",
          "name": "stdout",
          "text": [
            "+----------+\n",
            "|avg(marks)|\n",
            "+----------+\n",
            "|    64.499|\n",
            "+----------+\n",
            "\n"
          ]
        }
      ]
    },
    {
      "cell_type": "code",
      "source": [
        "df4.summary().show()"
      ],
      "metadata": {
        "colab": {
          "base_uri": "https://localhost:8080/"
        },
        "id": "do0U83YjBP6X",
        "outputId": "eee3cec1-99f4-400f-ffb4-065485c96899"
      },
      "execution_count": 115,
      "outputs": [
        {
          "output_type": "stream",
          "name": "stdout",
          "text": [
            "+-------+------------------+-------+-----+-----------------+------------------+\n",
            "|summary|              roll|   name|class|            marks|               age|\n",
            "+-------+------------------+-------+-----+-----------------+------------------+\n",
            "|  count|                10|     10|   10|               10|                10|\n",
            "|   mean|               5.5|   null| null|           64.499|              20.5|\n",
            "| stddev|3.0276503540974917|   null| null|9.207178901994537|1.2692955176439846|\n",
            "|    min|                 1|ajinkya|   BE|            49.55|                19|\n",
            "|    25%|                 3|   null| null|            56.77|                20|\n",
            "|    50%|                 5|   null| null|            63.28|                20|\n",
            "|    75%|                 8|   null| null|            69.66|                21|\n",
            "|    max|                10| ayesha|   TE|            78.66|                23|\n",
            "+-------+------------------+-------+-----+-----------------+------------------+\n",
            "\n"
          ]
        }
      ]
    }
  ]
}