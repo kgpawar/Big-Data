{
  "nbformat": 4,
  "nbformat_minor": 0,
  "metadata": {
    "colab": {
      "provenance": [],
      "authorship_tag": "ABX9TyP6wyNuoLt/YMAGDVFolnsR",
      "include_colab_link": true
    },
    "kernelspec": {
      "name": "python3",
      "display_name": "Python 3"
    },
    "language_info": {
      "name": "python"
    }
  },
  "cells": [
    {
      "cell_type": "markdown",
      "metadata": {
        "id": "view-in-github",
        "colab_type": "text"
      },
      "source": [
        "<a href=\"https://colab.research.google.com/github/kgpawar/Big-Data/blob/main/Untitled3.ipynb\" target=\"_parent\"><img src=\"https://colab.research.google.com/assets/colab-badge.svg\" alt=\"Open In Colab\"/></a>"
      ]
    },
    {
      "cell_type": "code",
      "execution_count": 1,
      "metadata": {
        "colab": {
          "base_uri": "https://localhost:8080/"
        },
        "id": "TWuIVdD8DleA",
        "outputId": "4ea250f4-84ee-4154-c00b-6d37416039e9"
      },
      "outputs": [
        {
          "output_type": "stream",
          "name": "stdout",
          "text": [
            "Looking in indexes: https://pypi.org/simple, https://us-python.pkg.dev/colab-wheels/public/simple/\n",
            "Collecting pyspark\n",
            "  Downloading pyspark-3.3.1.tar.gz (281.4 MB)\n",
            "\u001b[2K     \u001b[90m━━━━━━━━━━━━━━━━━━━━━━━━━━━━━━━━━━━━━━━\u001b[0m \u001b[32m281.4/281.4 MB\u001b[0m \u001b[31m4.8 MB/s\u001b[0m eta \u001b[36m0:00:00\u001b[0m\n",
            "\u001b[?25h  Preparing metadata (setup.py) ... \u001b[?25l\u001b[?25hdone\n",
            "Collecting py4j==0.10.9.5\n",
            "  Downloading py4j-0.10.9.5-py2.py3-none-any.whl (199 kB)\n",
            "\u001b[2K     \u001b[90m━━━━━━━━━━━━━━━━━━━━━━━━━━━━━━━━━━━━━━\u001b[0m \u001b[32m199.7/199.7 KB\u001b[0m \u001b[31m23.7 MB/s\u001b[0m eta \u001b[36m0:00:00\u001b[0m\n",
            "\u001b[?25hBuilding wheels for collected packages: pyspark\n",
            "  Building wheel for pyspark (setup.py) ... \u001b[?25l\u001b[?25hdone\n",
            "  Created wheel for pyspark: filename=pyspark-3.3.1-py2.py3-none-any.whl size=281845512 sha256=aaf1b2d6c53634c309491d97b3bc5c1a07b8db09e20a91140cbd2253bd891f9a\n",
            "  Stored in directory: /root/.cache/pip/wheels/43/dc/11/ec201cd671da62fa9c5cc77078235e40722170ceba231d7598\n",
            "Successfully built pyspark\n",
            "Installing collected packages: py4j, pyspark\n",
            "Successfully installed py4j-0.10.9.5 pyspark-3.3.1\n"
          ]
        }
      ],
      "source": [
        "pip install pyspark"
      ]
    },
    {
      "cell_type": "code",
      "source": [
        "from pyspark.sql import SparkSession"
      ],
      "metadata": {
        "id": "QPvb7v-bD7rg"
      },
      "execution_count": 2,
      "outputs": []
    },
    {
      "cell_type": "code",
      "source": [
        "spark = SparkSession.builder.master(\"local[4]\").appName('MITU_Skillogies').getOrCreate()"
      ],
      "metadata": {
        "id": "VjLuIuXmEFti"
      },
      "execution_count": 4,
      "outputs": []
    },
    {
      "cell_type": "code",
      "source": [
        "#Spark Context Object\n",
        "sc = spark.sparkContext"
      ],
      "metadata": {
        "id": "kxhJF0l4Eu9o"
      },
      "execution_count": 5,
      "outputs": []
    },
    {
      "cell_type": "code",
      "source": [
        "#create RDD from list\n",
        "rdd = sc.parallelize([1,2,3,4,5,6,7,8])\n",
        "print(rdd.collect())\n",
        "print('Number of prtitions:',rdd.getNumPartitions())"
      ],
      "metadata": {
        "colab": {
          "base_uri": "https://localhost:8080/"
        },
        "id": "bjg_M-1kE4Qo",
        "outputId": "e7dab43c-34c0-4e88-d7fa-02b6b1bcdabb"
      },
      "execution_count": 7,
      "outputs": [
        {
          "output_type": "stream",
          "name": "stdout",
          "text": [
            "[1, 2, 3, 4, 5, 6, 7, 8]\n",
            "Number of prtitions: 4\n"
          ]
        }
      ]
    },
    {
      "cell_type": "code",
      "source": [
        "rdd2 = rdd.repartition(2)\n",
        "print('Number of prtitions:',rdd2.getNumPartitions())"
      ],
      "metadata": {
        "colab": {
          "base_uri": "https://localhost:8080/"
        },
        "id": "2vfh3f9tFWUH",
        "outputId": "5c6cef61-123e-4205-eac8-641b4a438e5c"
      },
      "execution_count": 9,
      "outputs": [
        {
          "output_type": "stream",
          "name": "stdout",
          "text": [
            "Number of prtitions: 2\n"
          ]
        }
      ]
    },
    {
      "cell_type": "code",
      "source": [
        "rdd.saveAsTextFile('data')"
      ],
      "metadata": {
        "id": "imIkeQERGGVl"
      },
      "execution_count": 10,
      "outputs": []
    },
    {
      "cell_type": "code",
      "source": [
        "rdd2.saveAsTextFile('data1')"
      ],
      "metadata": {
        "id": "3tZ4sbhYGMr7"
      },
      "execution_count": 12,
      "outputs": []
    },
    {
      "cell_type": "code",
      "source": [
        "#Read the data from text file"
      ],
      "metadata": {
        "id": "qvxPkKhOHvFg"
      },
      "execution_count": 13,
      "outputs": []
    },
    {
      "cell_type": "code",
      "source": [
        "rdd=sc.textFile('fruits.txt')\n",
        "rdd.collect()"
      ],
      "metadata": {
        "colab": {
          "base_uri": "https://localhost:8080/"
        },
        "id": "3hwnh8uCIALX",
        "outputId": "4047482b-8156-49f6-c6be-e8a1bb528d4e"
      },
      "execution_count": 19,
      "outputs": [
        {
          "output_type": "execute_result",
          "data": {
            "text/plain": [
              "['Apple Orange Mango',\n",
              " 'Orange Grapes Plum',\n",
              " 'Apple Plum Mango',\n",
              " 'Apple Apple Plum']"
            ]
          },
          "metadata": {},
          "execution_count": 19
        }
      ]
    },
    {
      "cell_type": "code",
      "source": [
        "rdd1=sc.textFile('fruits.txt,fruits1.txt')"
      ],
      "metadata": {
        "id": "z3N-Rl-UIQFa"
      },
      "execution_count": 16,
      "outputs": []
    },
    {
      "cell_type": "code",
      "source": [
        "rdd1.collect()"
      ],
      "metadata": {
        "colab": {
          "base_uri": "https://localhost:8080/"
        },
        "id": "rVM7CWtsJYoz",
        "outputId": "16fddc56-bf8f-49ea-de81-c95919e9e260"
      },
      "execution_count": 18,
      "outputs": [
        {
          "output_type": "execute_result",
          "data": {
            "text/plain": [
              "['Apple Orange Mango',\n",
              " 'Orange Grapes Plum',\n",
              " 'Apple Plum Mango',\n",
              " 'Apple Apple Plum',\n",
              " 'Pineapple Apple Mango',\n",
              " 'Mango Banana Berry',\n",
              " 'Cherry Mango Apple',\n",
              " 'Banana Apple Cherry']"
            ]
          },
          "metadata": {},
          "execution_count": 18
        }
      ]
    },
    {
      "cell_type": "code",
      "source": [
        "rdd2 = rdd1.flatMap(lambda x:x.split())\n",
        "rdd2.collect()"
      ],
      "metadata": {
        "colab": {
          "base_uri": "https://localhost:8080/"
        },
        "id": "Co9zIecKJs9z",
        "outputId": "da330272-8b0c-4d92-b820-eb711652dbd6"
      },
      "execution_count": 22,
      "outputs": [
        {
          "output_type": "execute_result",
          "data": {
            "text/plain": [
              "['Apple',\n",
              " 'Orange',\n",
              " 'Mango',\n",
              " 'Orange',\n",
              " 'Grapes',\n",
              " 'Plum',\n",
              " 'Apple',\n",
              " 'Plum',\n",
              " 'Mango',\n",
              " 'Apple',\n",
              " 'Apple',\n",
              " 'Plum',\n",
              " 'Pineapple',\n",
              " 'Apple',\n",
              " 'Mango',\n",
              " 'Mango',\n",
              " 'Banana',\n",
              " 'Berry',\n",
              " 'Cherry',\n",
              " 'Mango',\n",
              " 'Apple',\n",
              " 'Banana',\n",
              " 'Apple',\n",
              " 'Cherry']"
            ]
          },
          "metadata": {},
          "execution_count": 22
        }
      ]
    },
    {
      "cell_type": "code",
      "source": [
        "rdd3 = rdd2.map(lambda x:(x,1))\n",
        "rdd3.collect()"
      ],
      "metadata": {
        "colab": {
          "base_uri": "https://localhost:8080/"
        },
        "id": "EHIuKLWvKuEI",
        "outputId": "30229e17-0f2b-4a06-be92-76d07dbb79bc"
      },
      "execution_count": 30,
      "outputs": [
        {
          "output_type": "execute_result",
          "data": {
            "text/plain": [
              "[('Apple', 1),\n",
              " ('Orange', 1),\n",
              " ('Mango', 1),\n",
              " ('Orange', 1),\n",
              " ('Grapes', 1),\n",
              " ('Plum', 1),\n",
              " ('Apple', 1),\n",
              " ('Plum', 1),\n",
              " ('Mango', 1),\n",
              " ('Apple', 1),\n",
              " ('Apple', 1),\n",
              " ('Plum', 1),\n",
              " ('Pineapple', 1),\n",
              " ('Apple', 1),\n",
              " ('Mango', 1),\n",
              " ('Mango', 1),\n",
              " ('Banana', 1),\n",
              " ('Berry', 1),\n",
              " ('Cherry', 1),\n",
              " ('Mango', 1),\n",
              " ('Apple', 1),\n",
              " ('Banana', 1),\n",
              " ('Apple', 1),\n",
              " ('Cherry', 1)]"
            ]
          },
          "metadata": {},
          "execution_count": 30
        }
      ]
    },
    {
      "cell_type": "code",
      "source": [
        "rdd4 = rdd3.reduceByKey(lambda a,b: a+b)\n",
        "rdd4.collect()"
      ],
      "metadata": {
        "colab": {
          "base_uri": "https://localhost:8080/"
        },
        "id": "HylgpID5LKof",
        "outputId": "df64ba88-a25e-41f1-d5ca-40062062445b"
      },
      "execution_count": 31,
      "outputs": [
        {
          "output_type": "execute_result",
          "data": {
            "text/plain": [
              "[('Apple', 7),\n",
              " ('Orange', 2),\n",
              " ('Pineapple', 1),\n",
              " ('Berry', 1),\n",
              " ('Cherry', 2),\n",
              " ('Mango', 5),\n",
              " ('Grapes', 1),\n",
              " ('Plum', 3),\n",
              " ('Banana', 2)]"
            ]
          },
          "metadata": {},
          "execution_count": 31
        }
      ]
    },
    {
      "cell_type": "code",
      "source": [
        "rdd5=rdd4.map(lambda x: (x[0],x[1])).sortByKey()\n",
        "rdd5.collect()"
      ],
      "metadata": {
        "colab": {
          "base_uri": "https://localhost:8080/"
        },
        "id": "mEg0ExYeLik6",
        "outputId": "80d25e26-432c-4696-c6aa-6ac7b3d34895"
      },
      "execution_count": 32,
      "outputs": [
        {
          "output_type": "execute_result",
          "data": {
            "text/plain": [
              "[('Apple', 7),\n",
              " ('Banana', 2),\n",
              " ('Berry', 1),\n",
              " ('Cherry', 2),\n",
              " ('Grapes', 1),\n",
              " ('Mango', 5),\n",
              " ('Orange', 2),\n",
              " ('Pineapple', 1),\n",
              " ('Plum', 3)]"
            ]
          },
          "metadata": {},
          "execution_count": 32
        }
      ]
    },
    {
      "cell_type": "code",
      "source": [
        "rdd6=rdd3.filter(lambda x:x[0].startswith('B'))\n",
        "print(rdd6.collect())"
      ],
      "metadata": {
        "colab": {
          "base_uri": "https://localhost:8080/"
        },
        "id": "tbT53UCYMv1s",
        "outputId": "f3b4ac46-ede6-410c-b960-7c6b08a6ae67"
      },
      "execution_count": 34,
      "outputs": [
        {
          "output_type": "stream",
          "name": "stdout",
          "text": [
            "[('Banana', 1), ('Berry', 1), ('Banana', 1)]\n"
          ]
        }
      ]
    },
    {
      "cell_type": "code",
      "source": [
        "# Read the input file and calculate words count\n",
        "text_file = sc.textFile(\"fruits.txt\")\n",
        "counts = text_file.flatMap(lambda line: line.split(\" \")).map(lambda word: (word,1)).reduceByKey(lambda x, y:x+y)"
      ],
      "metadata": {
        "id": "j5YkYa7rN08A"
      },
      "execution_count": 35,
      "outputs": []
    },
    {
      "cell_type": "code",
      "source": [
        "# Printing each word with its respective count\n",
        "output=counts.collect()\n",
        "for(word,count) in output:\n",
        "  print(\"%s: %i\"%(word,count))\n"
      ],
      "metadata": {
        "colab": {
          "base_uri": "https://localhost:8080/"
        },
        "id": "bGVAad74PPaJ",
        "outputId": "e9c93536-a9e9-4391-98e2-ab7507d0f78f"
      },
      "execution_count": 36,
      "outputs": [
        {
          "output_type": "stream",
          "name": "stdout",
          "text": [
            "Apple: 4\n",
            "Orange: 2\n",
            "Mango: 2\n",
            "Grapes: 1\n",
            "Plum: 3\n"
          ]
        }
      ]
    },
    {
      "cell_type": "code",
      "source": [
        "text_file1 = sc.textFile(\"ages.txt\")\n",
        "age = text_file1.flatMap(lambda line: line.split()).filter(lambda x: x.isdigit()).map(lambda word:(1,int(word)))"
      ],
      "metadata": {
        "id": "kaHHjn5_QOUU"
      },
      "execution_count": 47,
      "outputs": []
    },
    {
      "cell_type": "code",
      "source": [
        "def average(rdd):\n",
        "  add = 0;count= 0\n",
        "  for x,y in rdd.collect():\n",
        "    add += y\n",
        "    count += 1\n",
        "  return(sc.parallelize(['Average is', add/count]))"
      ],
      "metadata": {
        "id": "5uLOqXmPSQi5"
      },
      "execution_count": 48,
      "outputs": []
    },
    {
      "cell_type": "code",
      "source": [
        "val = average(age)\n",
        "val.collect()"
      ],
      "metadata": {
        "colab": {
          "base_uri": "https://localhost:8080/"
        },
        "id": "ZcLt3iEnTIf-",
        "outputId": "640ea38b-eec2-468e-c00c-0efe9df07cc1"
      },
      "execution_count": 50,
      "outputs": [
        {
          "output_type": "execute_result",
          "data": {
            "text/plain": [
              "['Average is', 23.75]"
            ]
          },
          "metadata": {},
          "execution_count": 50
        }
      ]
    },
    {
      "cell_type": "code",
      "source": [],
      "metadata": {
        "colab": {
          "base_uri": "https://localhost:8080/",
          "height": 222
        },
        "id": "g785-xm3TXjd",
        "outputId": "8db83a54-9e05-43ff-e2b3-53918eefec23"
      },
      "execution_count": 43,
      "outputs": [
        {
          "output_type": "error",
          "ename": "TypeError",
          "evalue": "ignored",
          "traceback": [
            "\u001b[0;31m---------------------------------------------------------------------------\u001b[0m",
            "\u001b[0;31mTypeError\u001b[0m                                 Traceback (most recent call last)",
            "\u001b[0;32m<ipython-input-43-a58570a3d639>\u001b[0m in \u001b[0;36m<module>\u001b[0;34m\u001b[0m\n\u001b[0;32m----> 1\u001b[0;31m \u001b[0mnum\u001b[0m \u001b[0;34m=\u001b[0m\u001b[0mmap\u001b[0m\u001b[0;34m(\u001b[0m\u001b[0;32mlambda\u001b[0m \u001b[0mage\u001b[0m\u001b[0;34m:\u001b[0m \u001b[0mword\u001b[0m\u001b[0;34m.\u001b[0m\u001b[0misdigit\u001b[0m\u001b[0;34m(\u001b[0m\u001b[0;34m\"ages\"\u001b[0m\u001b[0;34m,\u001b[0m\u001b[0mword\u001b[0m\u001b[0;34m)\u001b[0m\u001b[0;34m)\u001b[0m\u001b[0;34m\u001b[0m\u001b[0;34m\u001b[0m\u001b[0m\n\u001b[0m\u001b[1;32m      2\u001b[0m \u001b[0mnum\u001b[0m\u001b[0;34m.\u001b[0m\u001b[0mcollect\u001b[0m\u001b[0;34m(\u001b[0m\u001b[0;34m)\u001b[0m\u001b[0;34m\u001b[0m\u001b[0;34m\u001b[0m\u001b[0m\n",
            "\u001b[0;31mTypeError\u001b[0m: map() must have at least two arguments."
          ]
        }
      ]
    }
  ]
}