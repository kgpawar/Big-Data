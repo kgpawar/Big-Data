{
  "nbformat": 4,
  "nbformat_minor": 0,
  "metadata": {
    "colab": {
      "provenance": [],
      "authorship_tag": "ABX9TyMlrHe6AGTNLrHd87tgJ+Bq",
      "include_colab_link": true
    },
    "kernelspec": {
      "name": "python3",
      "display_name": "Python 3"
    },
    "language_info": {
      "name": "python"
    }
  },
  "cells": [
    {
      "cell_type": "markdown",
      "metadata": {
        "id": "view-in-github",
        "colab_type": "text"
      },
      "source": [
        "<a href=\"https://colab.research.google.com/github/kgpawar/Big-Data/blob/main/PySparkRDDPersistence.ipynb\" target=\"_parent\"><img src=\"https://colab.research.google.com/assets/colab-badge.svg\" alt=\"Open In Colab\"/></a>"
      ]
    },
    {
      "cell_type": "code",
      "execution_count": 1,
      "metadata": {
        "colab": {
          "base_uri": "https://localhost:8080/"
        },
        "id": "Q2OLFyPb2FPz",
        "outputId": "f861517d-4881-48ac-9d27-674a7ba9bb3d"
      },
      "outputs": [
        {
          "output_type": "stream",
          "name": "stdout",
          "text": [
            "Looking in indexes: https://pypi.org/simple, https://us-python.pkg.dev/colab-wheels/public/simple/\n",
            "Collecting pyspark\n",
            "  Downloading pyspark-3.3.1.tar.gz (281.4 MB)\n",
            "\u001b[2K     \u001b[90m━━━━━━━━━━━━━━━━━━━━━━━━━━━━━━━━━━━━━━━\u001b[0m \u001b[32m281.4/281.4 MB\u001b[0m \u001b[31m4.1 MB/s\u001b[0m eta \u001b[36m0:00:00\u001b[0m\n",
            "\u001b[?25h  Preparing metadata (setup.py) ... \u001b[?25l\u001b[?25hdone\n",
            "Collecting py4j==0.10.9.5\n",
            "  Downloading py4j-0.10.9.5-py2.py3-none-any.whl (199 kB)\n",
            "\u001b[2K     \u001b[90m━━━━━━━━━━━━━━━━━━━━━━━━━━━━━━━━━━━━━━\u001b[0m \u001b[32m199.7/199.7 KB\u001b[0m \u001b[31m18.0 MB/s\u001b[0m eta \u001b[36m0:00:00\u001b[0m\n",
            "\u001b[?25hBuilding wheels for collected packages: pyspark\n",
            "  Building wheel for pyspark (setup.py) ... \u001b[?25l\u001b[?25hdone\n",
            "  Created wheel for pyspark: filename=pyspark-3.3.1-py2.py3-none-any.whl size=281845512 sha256=0c7cb6eb7a080877c7a230c23dc07642a5eb7e9bed10ffda2bd8818b84972eb5\n",
            "  Stored in directory: /root/.cache/pip/wheels/43/dc/11/ec201cd671da62fa9c5cc77078235e40722170ceba231d7598\n",
            "Successfully built pyspark\n",
            "Installing collected packages: py4j, pyspark\n",
            "Successfully installed py4j-0.10.9.5 pyspark-3.3.1\n"
          ]
        }
      ],
      "source": [
        "pip install pyspark"
      ]
    },
    {
      "cell_type": "code",
      "source": [
        "from pyspark.sql import SparkSession"
      ],
      "metadata": {
        "id": "FUhwVBc22arc"
      },
      "execution_count": 2,
      "outputs": []
    },
    {
      "cell_type": "code",
      "source": [
        "spark = SparkSession.builder.master(\"local[4]\").appName('Krishna Pawar').getOrCreate()"
      ],
      "metadata": {
        "id": "dLk8Ofhk2cG0"
      },
      "execution_count": 3,
      "outputs": []
    },
    {
      "cell_type": "code",
      "source": [
        "# Spark Context Object\n",
        "sc = spark.sparkContext"
      ],
      "metadata": {
        "id": "yt7OTku52q1U"
      },
      "execution_count": 4,
      "outputs": []
    },
    {
      "cell_type": "code",
      "source": [
        "df = spark.read.option('header',True).csv('student.csv')"
      ],
      "metadata": {
        "id": "Ka-YHvlL2xsG"
      },
      "execution_count": 15,
      "outputs": []
    },
    {
      "cell_type": "code",
      "source": [
        "df_cache = df.cache() # Default storage location is MEMORY_ONLY"
      ],
      "metadata": {
        "id": "ptvxNGrr3J2u"
      },
      "execution_count": 16,
      "outputs": []
    },
    {
      "cell_type": "code",
      "source": [
        "df_cache.show()"
      ],
      "metadata": {
        "colab": {
          "base_uri": "https://localhost:8080/"
        },
        "id": "h2VaUA1O3glP",
        "outputId": "b8094f31-731b-4086-ca59-89bf2f6e6a8f"
      },
      "execution_count": 17,
      "outputs": [
        {
          "output_type": "stream",
          "name": "stdout",
          "text": [
            "+----+-------+-----+-----+---+\n",
            "|roll|   name|class|marks|age|\n",
            "+----+-------+-----+-----+---+\n",
            "|   1|   anil|   TE|56.77| 22|\n",
            "|   2|   amit|   TE|59.77| 21|\n",
            "|   3| aniket|   BE|76.88| 19|\n",
            "|   4|ajinkya|   TE|69.66| 20|\n",
            "|   5|   asha|   TE|63.28| 20|\n",
            "|   6| ayesha|   BE|49.55| 20|\n",
            "|   7|   amar|   BE|65.34| 19|\n",
            "|   8|  amita|   BE|68.33| 23|\n",
            "|   9|   amol|   TE|56.75| 20|\n",
            "|  10|  anmol|   BE|78.66| 21|\n",
            "+----+-------+-----+-----+---+\n",
            "\n"
          ]
        }
      ]
    },
    {
      "cell_type": "code",
      "source": [
        "df_persist = df.persist() # Default storage location is MEMORY_AND_DISK"
      ],
      "metadata": {
        "id": "ykHiaTZw3q5g"
      },
      "execution_count": 18,
      "outputs": []
    },
    {
      "cell_type": "code",
      "source": [
        "df_persist.show()"
      ],
      "metadata": {
        "colab": {
          "base_uri": "https://localhost:8080/"
        },
        "id": "d4XrpbrE35Qp",
        "outputId": "52f70f3e-c637-4748-a4f8-13b56bd16dd3"
      },
      "execution_count": 19,
      "outputs": [
        {
          "output_type": "stream",
          "name": "stdout",
          "text": [
            "+----+-------+-----+-----+---+\n",
            "|roll|   name|class|marks|age|\n",
            "+----+-------+-----+-----+---+\n",
            "|   1|   anil|   TE|56.77| 22|\n",
            "|   2|   amit|   TE|59.77| 21|\n",
            "|   3| aniket|   BE|76.88| 19|\n",
            "|   4|ajinkya|   TE|69.66| 20|\n",
            "|   5|   asha|   TE|63.28| 20|\n",
            "|   6| ayesha|   BE|49.55| 20|\n",
            "|   7|   amar|   BE|65.34| 19|\n",
            "|   8|  amita|   BE|68.33| 23|\n",
            "|   9|   amol|   TE|56.75| 20|\n",
            "|  10|  anmol|   BE|78.66| 21|\n",
            "+----+-------+-----+-----+---+\n",
            "\n"
          ]
        }
      ]
    },
    {
      "cell_type": "code",
      "source": [
        "import pyspark"
      ],
      "metadata": {
        "id": "qe-D5t2m4opV"
      },
      "execution_count": 20,
      "outputs": []
    },
    {
      "cell_type": "code",
      "source": [
        "df_persist1 = df.persist(pyspark.StorageLevel.DISK_ONLY) #Storage location is DISK_ONLY"
      ],
      "metadata": {
        "id": "KNrSrRvw4sqC"
      },
      "execution_count": 21,
      "outputs": []
    },
    {
      "cell_type": "code",
      "source": [
        "df_persist1.show()"
      ],
      "metadata": {
        "colab": {
          "base_uri": "https://localhost:8080/"
        },
        "id": "HoQJ6qaF5GgJ",
        "outputId": "3d393444-324a-43aa-dfd0-50c177d1ffcb"
      },
      "execution_count": 22,
      "outputs": [
        {
          "output_type": "stream",
          "name": "stdout",
          "text": [
            "+----+-------+-----+-----+---+\n",
            "|roll|   name|class|marks|age|\n",
            "+----+-------+-----+-----+---+\n",
            "|   1|   anil|   TE|56.77| 22|\n",
            "|   2|   amit|   TE|59.77| 21|\n",
            "|   3| aniket|   BE|76.88| 19|\n",
            "|   4|ajinkya|   TE|69.66| 20|\n",
            "|   5|   asha|   TE|63.28| 20|\n",
            "|   6| ayesha|   BE|49.55| 20|\n",
            "|   7|   amar|   BE|65.34| 19|\n",
            "|   8|  amita|   BE|68.33| 23|\n",
            "|   9|   amol|   TE|56.75| 20|\n",
            "|  10|  anmol|   BE|78.66| 21|\n",
            "+----+-------+-----+-----+---+\n",
            "\n"
          ]
        }
      ]
    },
    {
      "cell_type": "markdown",
      "source": [
        "Unpersist"
      ],
      "metadata": {
        "id": "yryhARw354Gp"
      }
    },
    {
      "cell_type": "code",
      "source": [
        "df_persist.unpersist()"
      ],
      "metadata": {
        "colab": {
          "base_uri": "https://localhost:8080/"
        },
        "id": "LALKFSph6EBE",
        "outputId": "4e90f32b-032b-4a8c-b94e-843b6d978057"
      },
      "execution_count": 23,
      "outputs": [
        {
          "output_type": "execute_result",
          "data": {
            "text/plain": [
              "DataFrame[roll: string, name: string, class: string, marks: string, age: string]"
            ]
          },
          "metadata": {},
          "execution_count": 23
        }
      ]
    },
    {
      "cell_type": "code",
      "source": [
        "df"
      ],
      "metadata": {
        "id": "Uh7GN-CJ6LZr"
      },
      "execution_count": null,
      "outputs": []
    }
  ]
}